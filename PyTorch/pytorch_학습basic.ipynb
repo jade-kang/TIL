{
 "cells": [
  {
   "cell_type": "markdown",
   "id": "e6aa743a-ae65-432b-8af3-bf041a81153b",
   "metadata": {},
   "source": [
    "# 데이터 준비 \n",
    "- 파이토치에서는 데이터 준비를 위해 torch.utils.data 의 Dataset 과 DataLoader 사용 가능\n",
    "    - Dataset에는 다양한 데이터셋이 존재한다 (MNIST , FashionMNIST, CIFAR10, ,,,)\n",
    "        - Vision dataset : \n",
    "        - text dataset : \n",
    "        - audio dataset\n",
    "    - DataLoader와 Dataset을 통해 batch_size, train 여부, transform 등을 인자로 넣어 데이터를 어떻게 load 할 것인지 정해줄 수 있다. "
   ]
  },
  {
   "cell_type": "code",
   "execution_count": 2,
   "id": "d73bef59-b224-4a8a-b848-8991f4fb2d7e",
   "metadata": {},
   "outputs": [],
   "source": [
    "from torch.utils.data import Dataset, DataLoader"
   ]
  },
  {
   "cell_type": "markdown",
   "id": "0f6f4a65-c999-4198-9280-2a87827eb19a",
   "metadata": {},
   "source": [
    "### 토치 비전(torchvision)은 파이토치에서 제공하는 데이터셋들이 모여있는 패키지 \n",
    "- transforms : 전처리할 때 사용하는 메소드\n",
    "- transforms 에서 제공하는 클래스 이외는 일반적으로 클래스를 따로 만들어 전처리 단계를 진행 "
   ]
  },
  {
   "cell_type": "code",
   "execution_count": 3,
   "id": "8894b7fc-edbc-4db4-8da7-8fd1ac5e137e",
   "metadata": {},
   "outputs": [],
   "source": [
    "import torchvision.transforms as transforms \n",
    "from torchvision import datasets"
   ]
  },
  {
   "cell_type": "code",
   "execution_count": null,
   "id": "6996ff87-96a7-4898-accc-83a88c8d1731",
   "metadata": {},
   "outputs": [],
   "source": [
    "### Dataloader "
   ]
  }
 ],
 "metadata": {
  "kernelspec": {
   "display_name": "Python 3 (ipykernel)",
   "language": "python",
   "name": "python3"
  },
  "language_info": {
   "codemirror_mode": {
    "name": "ipython",
    "version": 3
   },
   "file_extension": ".py",
   "mimetype": "text/x-python",
   "name": "python",
   "nbconvert_exporter": "python",
   "pygments_lexer": "ipython3",
   "version": "3.12.7"
  }
 },
 "nbformat": 4,
 "nbformat_minor": 5
}
