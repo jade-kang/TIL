{
 "cells": [
  {
   "cell_type": "markdown",
   "id": "ccc276c2-e2dd-4dc2-aa34-a2c020d99a95",
   "metadata": {},
   "source": [
    "# LLM(Large language model, 대형 언어 모델) 만들기\n",
    "- llm의 기본 (학습 단계) \n",
    "  - pretraining(사전훈련) : 일반적인 언어 능력 학습\n",
    "  - fine tunining(미세조정) : 특정 업무에 적응할 수 있게 학습\n",
    "  - 데이터베이스(+인터넷) 검색 기능 추가\n",
    "  - 내부 질의 반복을 통한 더 좋은 결론 도출 (사람도 사고를 반복하면서 더 정교해지듯이)\n",
    "        - 속도는 느려진다. \n",
    "- 사전훈련 과정\n",
    "  1. 훈련 데이터 준비\n",
    "  2. Dataloader 정의\n",
    "  3. 모델 정의\n",
    "  4. training\n",
    "  5. 결과 확인 "
   ]
  },
  {
   "cell_type": "markdown",
   "id": "bc4af13f-a59b-4a5e-9b87-68fd7699b0d6",
   "metadata": {},
   "source": [
    "# 사전 학습"
   ]
  },
  {
   "cell_type": "markdown",
   "id": "ea13f418-9031-4702-acd3-5c582db89169",
   "metadata": {},
   "source": [
    "## 훈련 데이터 준비\n",
    "- 준비한 텍스트 파일을 정리한 후, 앞에 cleaned_가 붙은 파일 이름을 정리한다\n",
    "  > ex) alice.txt -> cleaned_alice.txt \n",
    "- 사용한 데이터 (다운로드 후 노트북과 같은 폴더에)\n",
    "  - [harry potter books](https://www.kaggle.com/datasets/shubhammaindola/harry-potter-books?select=02+Harry+Potter+and+the+Chamber+of+Secrets.txt)\n",
    "  - [alice](https://www.kaggle.com/datasets/leelatte/alicetxt)"
   ]
  },
  {
   "cell_type": "code",
   "execution_count": null,
   "id": "770f750d-2060-42e3-9b70-b1b4a0573e5d",
   "metadata": {},
   "outputs": [],
   "source": [
    "# harry potter txt 파일을 확인해보면, 대사별로 줄바꿈이 되어 있음 \n",
    "# 줄바꿈, 빈칸이 남발되어 있는 것들을 청소(clean) 시키는 코드 \n",
    "\n",
    "import re #정규표현식 regular expression 모듈을 통해 아래의 패턴들을 교체 \n",
    "\n",
    "def clean_text(filename):\n",
    "    with open(filename, 'r', encoding='utf-8') as file: #파일을 utf-8로 읽어, book_text 라는 문자열로 할당 \n",
    "        book_text = file.read()\n",
    "\n",
    "    cleaned_text = re.sub(r'\\n+', ' ', book_text) # 줄바꿈 이스케이프을 빈칸으로 변경\n",
    "    cleaned_text = re.sub(r'\\s+', ' ', cleaned_text) # 여러 공백문자(빈칸) 을 하나의 빈칸으로\n",
    "\n",
    "    print(\"cleaned_\" + filename, len(cleaned_text), \"characters\") # 글자 수 출력\n",
    "\n",
    "    with open(\"cleaned_\" + filename, 'w', encoding='utf-8') as file:\n",
    "        file.write(cleaned_text)\n",
    "\n",
    "filenames_list = [\"02 Harry Potter and the Chamber of Secrets.txt\"]\n",
    "\n",
    "for filename in filenames_list:\n",
    "    clean_text(filename)"
   ]
  }
 ],
 "metadata": {
  "kernelspec": {
   "display_name": "Python 3 (ipykernel)",
   "language": "python",
   "name": "python3"
  },
  "language_info": {
   "codemirror_mode": {
    "name": "ipython",
    "version": 3
   },
   "file_extension": ".py",
   "mimetype": "text/x-python",
   "name": "python",
   "nbconvert_exporter": "python",
   "pygments_lexer": "ipython3",
   "version": "3.12.7"
  }
 },
 "nbformat": 4,
 "nbformat_minor": 5
}
