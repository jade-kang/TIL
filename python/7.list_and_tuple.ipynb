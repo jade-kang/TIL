{
 "cells": [
  {
   "cell_type": "markdown",
   "id": "b1c00929",
   "metadata": {},
   "source": [
    "### 리스트"
   ]
  },
  {
   "cell_type": "markdown",
   "id": "c1977a23",
   "metadata": {},
   "source": [
    "- 말그대로 목록. 값을 일렬로 늘어놓은 형태 \n",
    "- 보통 리스트의 값은 코드로 생성하기 때문에 손으로 쓸 일이 거의 없다\n",
    "- 변수에 값을 저장할 때 [](대괄호)로 묶어준다.\n"
   ]
  },
  {
   "cell_type": "code",
   "execution_count": null,
   "id": "e243ef2c",
   "metadata": {},
   "outputs": [
    {
     "data": {
      "text/plain": [
       "[32, 23, 12, 43, 23]"
      ]
     },
     "execution_count": 1,
     "metadata": {},
     "output_type": "execute_result"
    }
   ],
   "source": [
    "a = [32,23,12,43,23] #각각의 값들을 요소라고 한다. \n",
    "a"
   ]
  },
  {
   "cell_type": "markdown",
   "id": "8f7d7cc4",
   "metadata": {},
   "source": [
    "- 리스트는 모든 자료형을 저장할 수 있다."
   ]
  },
  {
   "cell_type": "code",
   "execution_count": 3,
   "id": "2a07390e",
   "metadata": {},
   "outputs": [
    {
     "data": {
      "text/plain": [
       "['james', 18, 170, True]"
      ]
     },
     "execution_count": 3,
     "metadata": {},
     "output_type": "execute_result"
    }
   ],
   "source": [
    "person = ['james', 18, 170, True]\n",
    "person"
   ]
  },
  {
   "cell_type": "markdown",
   "id": "d3b044ae",
   "metadata": {},
   "source": [
    "- 빈 리스트 만들때는 [] 만 지정하거나 list를 사용"
   ]
  },
  {
   "cell_type": "code",
   "execution_count": 4,
   "id": "3080e268",
   "metadata": {},
   "outputs": [
    {
     "data": {
      "text/plain": [
       "[]"
      ]
     },
     "execution_count": 4,
     "metadata": {},
     "output_type": "execute_result"
    }
   ],
   "source": [
    "a = []\n",
    "a"
   ]
  },
  {
   "cell_type": "code",
   "execution_count": 5,
   "id": "e0bef794",
   "metadata": {},
   "outputs": [
    {
     "data": {
      "text/plain": [
       "[]"
      ]
     },
     "execution_count": 5,
     "metadata": {},
     "output_type": "execute_result"
    }
   ],
   "source": [
    "b = list()\n",
    "b"
   ]
  },
  {
   "cell_type": "markdown",
   "id": "282ad7d5",
   "metadata": {},
   "source": [
    "- range를 사용하여 리스트 만들기 \n",
    "    - ***range : 연속된 숫자 생성*** \n",
    "    - range에 시작, 끝을 지정할 수 있다\n",
    "        - range(5,12, 2) -> 5부터 11까지 들어있는 리스트 생성(증가폭 2)\n",
    "    - 감소하게 만드는 법 : -1 을 넣는다. \n"
   ]
  },
  {
   "cell_type": "code",
   "execution_count": 7,
   "id": "7953caa5",
   "metadata": {},
   "outputs": [
    {
     "data": {
      "text/plain": [
       "range(0, 10)"
      ]
     },
     "execution_count": 7,
     "metadata": {},
     "output_type": "execute_result"
    }
   ],
   "source": [
    "range(10)"
   ]
  },
  {
   "cell_type": "code",
   "execution_count": null,
   "id": "79856ca1",
   "metadata": {},
   "outputs": [
    {
     "data": {
      "text/plain": [
       "[0, 1, 2, 3, 4, 5, 6, 7, 8, 9]"
      ]
     },
     "execution_count": 8,
     "metadata": {},
     "output_type": "execute_result"
    }
   ],
   "source": [
    "a = list(range(10))  #0부터 9까지 들어있는 리스트 생성 \n",
    "a"
   ]
  },
  {
   "cell_type": "code",
   "execution_count": 9,
   "id": "6b482e04",
   "metadata": {},
   "outputs": [
    {
     "data": {
      "text/plain": [
       "[5, 6, 7, 8, 9, 10, 11]"
      ]
     },
     "execution_count": 9,
     "metadata": {},
     "output_type": "execute_result"
    }
   ],
   "source": [
    "b = list(range(5,12))\n",
    "b"
   ]
  },
  {
   "cell_type": "code",
   "execution_count": 11,
   "id": "c440e831",
   "metadata": {},
   "outputs": [
    {
     "data": {
      "text/plain": [
       "[-4, -2, 0, 2, 4, 6, 8]"
      ]
     },
     "execution_count": 11,
     "metadata": {},
     "output_type": "execute_result"
    }
   ],
   "source": [
    "c = list(range(-4,10,2))  #증가폭 = 2 \n",
    "c"
   ]
  },
  {
   "cell_type": "code",
   "execution_count": 12,
   "id": "4c55f873",
   "metadata": {},
   "outputs": [
    {
     "data": {
      "text/plain": [
       "[10, 9, 8, 7, 6, 5, 4, 3, 2, 1]"
      ]
     },
     "execution_count": 12,
     "metadata": {},
     "output_type": "execute_result"
    }
   ],
   "source": [
    "#감소하게 만드는 법\n",
    "d = list(range(10,0,-1))\n",
    "d"
   ]
  },
  {
   "cell_type": "code",
   "execution_count": 16,
   "id": "a0755e65",
   "metadata": {},
   "outputs": [
    {
     "data": {
      "text/plain": [
       "[10, 8, 6, 4, 2, 0]"
      ]
     },
     "execution_count": 16,
     "metadata": {},
     "output_type": "execute_result"
    }
   ],
   "source": [
    "d = list(range(10,-2,-2))\n",
    "d"
   ]
  },
  {
   "cell_type": "markdown",
   "id": "421b4daa",
   "metadata": {},
   "source": [
    "### 튜플"
   ]
  },
  {
   "cell_type": "markdown",
   "id": "2b31b93d",
   "metadata": {},
   "source": [
    "- 리스트처럼 요소를 일렬로 저장하지만, 안에 저장된 요소를 변경, 추가, 삭제 x \n",
    "- () 괄호로 변수들을 저장. \n",
    "- 읽기 전용 리스트임 \n",
    "    - 튜플을 만든 상태에서 요소가 변경되지 않도록 하여, 에러 방지. \n",
    "    - 자주 변경해야 하는 변수의 경우 리스트를 사용 \n",
    "- **묶지 않고 값만 콤마로 구분** 해도 튜플이 된다. "
   ]
  },
  {
   "cell_type": "code",
   "execution_count": 18,
   "id": "c3a61f77",
   "metadata": {},
   "outputs": [
    {
     "name": "stdout",
     "output_type": "stream",
     "text": [
      "<class 'tuple'>\n",
      "<class 'tuple'>\n"
     ]
    }
   ],
   "source": [
    "a = 32,21,14 \n",
    "print(type(a))\n",
    "b = (21,31,3)\n",
    "print(type(b))"
   ]
  },
  {
   "cell_type": "markdown",
   "id": "79db8cc8",
   "metadata": {},
   "source": [
    "- 요소가 한개 들어있는 튜플 만들기 \n",
    "    - 왜 사용하는가 ?\n",
    "        - 값이 아닌 튜플을 함수(클래스)에 넣을 일이 많음.   \n",
    "    - 괄호로 묶지 않고 값 한개에 , 를 붙이면 됨 \n",
    "    - 괄호를 묶어도 됨 \n",
    "    - 튜플 = (값, )\n",
    "    - 튜플 = 값, "
   ]
  },
  {
   "cell_type": "code",
   "execution_count": 22,
   "id": "20c082c4",
   "metadata": {},
   "outputs": [
    {
     "data": {
      "text/plain": [
       "30"
      ]
     },
     "execution_count": 22,
     "metadata": {},
     "output_type": "execute_result"
    }
   ],
   "source": [
    "# 요소가 한개 들어있는 튜플 만들기 \n",
    "(30)  #이렇게 하면 그냥 값임 "
   ]
  },
  {
   "cell_type": "code",
   "execution_count": 23,
   "id": "249ec450",
   "metadata": {},
   "outputs": [
    {
     "data": {
      "text/plain": [
       "(30,)"
      ]
     },
     "execution_count": 23,
     "metadata": {},
     "output_type": "execute_result"
    }
   ],
   "source": [
    "(30, )"
   ]
  },
  {
   "cell_type": "code",
   "execution_count": 31,
   "id": "72abfe3a",
   "metadata": {},
   "outputs": [
    {
     "name": "stdout",
     "output_type": "stream",
     "text": [
      "<class 'tuple'>\n"
     ]
    }
   ],
   "source": [
    "a = tuple([10, 20, 30])\n",
    "print(type(a))"
   ]
  },
  {
   "cell_type": "markdown",
   "id": "154bb6c4",
   "metadata": {},
   "source": [
    "- range를 사용하여 튜플 만들기 \n",
    "    - 튜플 안에 range를 넣으면 튜플 생성"
   ]
  },
  {
   "cell_type": "code",
   "execution_count": 24,
   "id": "fe145358",
   "metadata": {},
   "outputs": [
    {
     "data": {
      "text/plain": [
       "(0, 1, 2, 3, 4, 5, 6, 7, 8, 9)"
      ]
     },
     "execution_count": 24,
     "metadata": {},
     "output_type": "execute_result"
    }
   ],
   "source": [
    "a = tuple(range(10))\n",
    "a"
   ]
  },
  {
   "cell_type": "code",
   "execution_count": 26,
   "id": "c6bbc8a6",
   "metadata": {},
   "outputs": [
    {
     "data": {
      "text/plain": [
       "(5, 6, 7, 8, 9, 10, 11)"
      ]
     },
     "execution_count": 26,
     "metadata": {},
     "output_type": "execute_result"
    }
   ],
   "source": [
    "b = tuple(range(5,12))\n",
    "b"
   ]
  },
  {
   "cell_type": "code",
   "execution_count": 28,
   "id": "181d1e55",
   "metadata": {},
   "outputs": [
    {
     "data": {
      "text/plain": [
       "(3, 6, 9, 12, 15, 18)"
      ]
     },
     "execution_count": 28,
     "metadata": {},
     "output_type": "execute_result"
    }
   ],
   "source": [
    "c = tuple(range(3,20,3))\n",
    "c"
   ]
  },
  {
   "cell_type": "code",
   "execution_count": 33,
   "id": "71abaff2",
   "metadata": {},
   "outputs": [
    {
     "data": {
      "text/plain": [
       "(-10, -7, -4, -1, 2, 5, 8)"
      ]
     },
     "execution_count": 33,
     "metadata": {},
     "output_type": "execute_result"
    }
   ],
   "source": [
    "#튜플 (-10, -7, -4, -1, 2, 5, 8)을 만드는 방법?\n",
    "d = tuple(range(-10,10,3))\n",
    "d"
   ]
  },
  {
   "cell_type": "markdown",
   "id": "08c5df10",
   "metadata": {},
   "source": [
    "### 튜플-리스트 변환"
   ]
  },
  {
   "cell_type": "markdown",
   "id": "df5ab75f",
   "metadata": {},
   "source": [
    "- 튜플과 리스트는 요소를 변경, 추가, 삭제할 수 있는지만 다를 뿐 기능, 형태 동일함. \n",
    "- 튜플을 리스트로, 리스트를 튜플로 만들 수 있음\n",
    "- tuple 안에 리스트를 넣으면 새 튜플 생김 "
   ]
  },
  {
   "cell_type": "code",
   "execution_count": 29,
   "id": "a5c2ff4b",
   "metadata": {},
   "outputs": [
    {
     "data": {
      "text/plain": [
       "(1, 2, 3)"
      ]
     },
     "execution_count": 29,
     "metadata": {},
     "output_type": "execute_result"
    }
   ],
   "source": [
    "a = [1,2,3] \n",
    "tuple(a)\n"
   ]
  },
  {
   "cell_type": "code",
   "execution_count": 30,
   "id": "0ed39365",
   "metadata": {},
   "outputs": [
    {
     "data": {
      "text/plain": [
       "[4, 5, 6]"
      ]
     },
     "execution_count": 30,
     "metadata": {},
     "output_type": "execute_result"
    }
   ],
   "source": [
    "b = (4,5,6)\n",
    "list(b)"
   ]
  },
  {
   "cell_type": "markdown",
   "id": "47e57fe3",
   "metadata": {},
   "source": [
    "- 연습문제 : range로 리스트 만들기\n",
    "    - 다음 소스 코드를 완성하여 리스트 [5, 3, 1, -1, -3, -5, -7, -9]가 출력되게 만드세요. 리스트를 만들 때는 range를 사용해야 합니다."
   ]
  },
  {
   "cell_type": "code",
   "execution_count": null,
   "id": "332db04e",
   "metadata": {},
   "outputs": [
    {
     "data": {
      "text/plain": [
       "[5, 3, 1, -1, -3, -5, -7, -9]"
      ]
     },
     "execution_count": 36,
     "metadata": {},
     "output_type": "execute_result"
    }
   ],
   "source": [
    "a = list(range(5,-10,-2))\n",
    "#a = list(range(5, -11, -2))\n",
    "a"
   ]
  },
  {
   "cell_type": "markdown",
   "id": "9e5a881a",
   "metadata": {},
   "source": [
    "- 연습문제 : range로 튜플 만들기\n",
    "    - 표준 입력으로 정수가 입력됩니다. range의 시작하는 숫자는 -10, 끝나는 숫자는 10이며 입력된 정수만큼 증가하는 숫자가 들어가도록 튜플을 만들고, 해당 튜플을 출력하는 프로그램을 만드세요(input에서 안내 문자열은 출력하지 않아야 합니다).\n",
    "    - 입력 : 2 \n",
    "    - 결과 : (-10, -8, -6, -4, -2, 0, 2, 4, 6, 8)\n",
    "    - 입력 : 3 \n",
    "    - 결과 : (-10, -7, -4, -1, 2, 5, 8)\n"
   ]
  },
  {
   "cell_type": "code",
   "execution_count": null,
   "id": "534ae6ad",
   "metadata": {
    "vscode": {
     "languageId": "ini"
    }
   },
   "outputs": [],
   "source": [
    "#내 오답 : map으로 input받은 값들에 int를 적용하려고 했었음\n",
    "    #근데 a 라는 변수는 map 객체임. 즉, range(-10,10,a)에서 a는 정수가 아닌 amp 객체 \n",
    "a = map(int, input())\n",
    "tup = tuple(range(-10,10,a))"
   ]
  },
  {
   "cell_type": "code",
   "execution_count": null,
   "id": "cd50acfd",
   "metadata": {},
   "outputs": [],
   "source": [
    "a = int(input()) #이렇게 입력받은걸 바로 정수화 \n",
    "tup = tuple(range(-10,10,a))\n",
    "print(tup)"
   ]
  },
  {
   "cell_type": "code",
   "execution_count": null,
   "id": "baecaae9",
   "metadata": {},
   "outputs": [],
   "source": []
  }
 ],
 "metadata": {
  "kernelspec": {
   "display_name": "base",
   "language": "python",
   "name": "python3"
  },
  "language_info": {
   "codemirror_mode": {
    "name": "ipython",
    "version": 3
   },
   "file_extension": ".py",
   "mimetype": "text/x-python",
   "name": "python",
   "nbconvert_exporter": "python",
   "pygments_lexer": "ipython3",
   "version": "3.12.7"
  }
 },
 "nbformat": 4,
 "nbformat_minor": 5
}
