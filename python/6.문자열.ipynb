{
 "cells": [
  {
   "cell_type": "markdown",
   "id": "c7c64cae",
   "metadata": {},
   "source": [
    "### 문자열 사용하기 "
   ]
  },
  {
   "cell_type": "code",
   "execution_count": 1,
   "id": "15187d9d",
   "metadata": {},
   "outputs": [
    {
     "name": "stdout",
     "output_type": "stream",
     "text": [
      "hello, world\n"
     ]
    }
   ],
   "source": [
    "hello = 'hello, world'\n",
    "print(hello)"
   ]
  },
  {
   "cell_type": "code",
   "execution_count": 3,
   "id": "d8cde8f4",
   "metadata": {},
   "outputs": [
    {
     "name": "stdout",
     "output_type": "stream",
     "text": [
      "'hi' 라고 말했다\n",
      "'hi' 라고 말했다\n"
     ]
    }
   ],
   "source": [
    "# 문자열 내에 따옴표를 포함하는 방법\n",
    "print(\"'hi' 라고 말했다\")\n",
    "print(\"\\'hi\\' 라고 말했다\")  #\\' 즉, 역슬래쉬를 붙여준다. (이스케이프)"
   ]
  },
  {
   "cell_type": "code",
   "execution_count": 8,
   "id": "e0d5d3dd",
   "metadata": {},
   "outputs": [
    {
     "name": "stdout",
     "output_type": "stream",
     "text": [
      "\n",
      "      안녕하세요\n",
      "      반갑습니다\n",
      "      \n"
     ]
    }
   ],
   "source": [
    "print(\"\"\"\n",
    "      안녕하세요\n",
    "      반갑습니다\n",
    "      \"\"\")"
   ]
  },
  {
   "cell_type": "code",
   "execution_count": 5,
   "id": "bf17d2a4",
   "metadata": {},
   "outputs": [
    {
     "name": "stdout",
     "output_type": "stream",
     "text": [
      "hello\n",
      "python\n"
     ]
    }
   ],
   "source": [
    "#따옴표 세개로 묶지 않고 여러 줄로 된 문자열 사용하기 -> 개행문자(\\n)\n",
    "print(\"hello\\npython\") "
   ]
  },
  {
   "cell_type": "code",
   "execution_count": 9,
   "id": "dd38ceb4",
   "metadata": {},
   "outputs": [
    {
     "name": "stdout",
     "output_type": "stream",
     "text": [
      "\"hello\" python\n"
     ]
    }
   ],
   "source": [
    "print(\"\"\"\"hello\" python\"\"\")"
   ]
  },
  {
   "cell_type": "code",
   "execution_count": 10,
   "id": "338022df",
   "metadata": {},
   "outputs": [
    {
     "name": "stdout",
     "output_type": "stream",
     "text": [
      "python is a programming language that lets you work quickly\n",
      "and\n",
      "integrate systems more effectively.\n"
     ]
    }
   ],
   "source": [
    "print(\"python is a programming language that lets you work quickly\\nand\\nintegrate systems more effectively.\")"
   ]
  },
  {
   "cell_type": "code",
   "execution_count": 14,
   "id": "745f1d09",
   "metadata": {},
   "outputs": [
    {
     "name": "stdout",
     "output_type": "stream",
     "text": [
      "'python' is a \"programming language\"\n",
      "that lets you work quickly\n",
      "and\n",
      "integrate systems more effectively.\n"
     ]
    }
   ],
   "source": [
    "print(\"'python' is a \\\"programming language\\\"\\nthat lets you work quickly\\nand\\nintegrate systems more effectively.\")"
   ]
  },
  {
   "cell_type": "code",
   "execution_count": 16,
   "id": "dff7a1c0",
   "metadata": {},
   "outputs": [
    {
     "name": "stdout",
     "output_type": "stream",
     "text": [
      "\n",
      "'python' is a \"programming language\"\n",
      "that lets you work quickly \n",
      "and\n",
      "integrate systems more effectively\n"
     ]
    }
   ],
   "source": [
    "print(\"\"\"\n",
    "'python' is a \"programming language\"\n",
    "that lets you work quickly \n",
    "and\n",
    "integrate systems more effectively\"\"\")"
   ]
  },
  {
   "cell_type": "code",
   "execution_count": null,
   "id": "63a653c3",
   "metadata": {},
   "outputs": [],
   "source": []
  }
 ],
 "metadata": {
  "kernelspec": {
   "display_name": "base",
   "language": "python",
   "name": "python3"
  },
  "language_info": {
   "codemirror_mode": {
    "name": "ipython",
    "version": 3
   },
   "file_extension": ".py",
   "mimetype": "text/x-python",
   "name": "python",
   "nbconvert_exporter": "python",
   "pygments_lexer": "ipython3",
   "version": "3.12.7"
  }
 },
 "nbformat": 4,
 "nbformat_minor": 5
}
