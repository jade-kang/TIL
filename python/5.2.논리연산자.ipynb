{
 "cells": [
  {
   "cell_type": "markdown",
   "id": "cf707259",
   "metadata": {},
   "source": [
    "### 논리연산자"
   ]
  },
  {
   "cell_type": "markdown",
   "id": "c5d90247",
   "metadata": {},
   "source": [
    "- and , or , not "
   ]
  },
  {
   "cell_type": "markdown",
   "id": "8769b039",
   "metadata": {},
   "source": [
    "1. and \n",
    "    - 둘다 true 일때만 결과가 true 로 나옴\n",
    "    - 나머지는 모두 false 로 결과가 나온다"
   ]
  },
  {
   "cell_type": "code",
   "execution_count": 3,
   "id": "152b43db",
   "metadata": {},
   "outputs": [
    {
     "data": {
      "text/plain": [
       "True"
      ]
     },
     "execution_count": 3,
     "metadata": {},
     "output_type": "execute_result"
    }
   ],
   "source": [
    "True and True"
   ]
  },
  {
   "cell_type": "code",
   "execution_count": 1,
   "id": "7110fbe7",
   "metadata": {},
   "outputs": [
    {
     "data": {
      "text/plain": [
       "False"
      ]
     },
     "execution_count": 1,
     "metadata": {},
     "output_type": "execute_result"
    }
   ],
   "source": [
    "True and False"
   ]
  },
  {
   "cell_type": "code",
   "execution_count": 2,
   "id": "d4731ef8",
   "metadata": {},
   "outputs": [
    {
     "data": {
      "text/plain": [
       "False"
      ]
     },
     "execution_count": 2,
     "metadata": {},
     "output_type": "execute_result"
    }
   ],
   "source": [
    "False and False"
   ]
  },
  {
   "cell_type": "markdown",
   "id": "aa297dda",
   "metadata": {},
   "source": [
    "2. or\n",
    "    - false or false 일때만 false 나옴 \n",
    "    - 하나라도 true 가 있으면 true로 결과 나옴"
   ]
  },
  {
   "cell_type": "code",
   "execution_count": 4,
   "id": "087b38c1",
   "metadata": {},
   "outputs": [
    {
     "data": {
      "text/plain": [
       "True"
      ]
     },
     "execution_count": 4,
     "metadata": {},
     "output_type": "execute_result"
    }
   ],
   "source": [
    "True or True"
   ]
  },
  {
   "cell_type": "code",
   "execution_count": 5,
   "id": "40078274",
   "metadata": {},
   "outputs": [
    {
     "data": {
      "text/plain": [
       "True"
      ]
     },
     "execution_count": 5,
     "metadata": {},
     "output_type": "execute_result"
    }
   ],
   "source": [
    "True or False"
   ]
  },
  {
   "cell_type": "code",
   "execution_count": 6,
   "id": "a5311ae3",
   "metadata": {},
   "outputs": [
    {
     "data": {
      "text/plain": [
       "False"
      ]
     },
     "execution_count": 6,
     "metadata": {},
     "output_type": "execute_result"
    }
   ],
   "source": [
    "False or False"
   ]
  },
  {
   "cell_type": "code",
   "execution_count": 2,
   "id": "0a132ffc",
   "metadata": {},
   "outputs": [
    {
     "data": {
      "text/plain": [
       "True"
      ]
     },
     "execution_count": 2,
     "metadata": {},
     "output_type": "execute_result"
    }
   ],
   "source": [
    "False or True"
   ]
  },
  {
   "cell_type": "markdown",
   "id": "4c7486d6",
   "metadata": {},
   "source": [
    "3. not \n",
    "    - 논리값 결과를 뒤집는다 \n",
    "    - not true는 false, not false는 true가 된다\n",
    "    - and, or, not 논리 연산자가 식 하나에 들어있으면 ***not, and, or*** 순으로 판단 "
   ]
  },
  {
   "cell_type": "code",
   "execution_count": 8,
   "id": "d2bbf587",
   "metadata": {},
   "outputs": [
    {
     "data": {
      "text/plain": [
       "True"
      ]
     },
     "execution_count": 8,
     "metadata": {},
     "output_type": "execute_result"
    }
   ],
   "source": [
    "not True and False or not False \n",
    "#not, and, or 순으로 처리 \n",
    "\n",
    "#not부터 처리하면 \n",
    "    #false and false or true \n",
    "#and 처리 \n",
    "    #false or true \n",
    "    #true\n",
    "\n",
    "#순서가 헷갈리면 괄호 처리하고 생각"
   ]
  },
  {
   "cell_type": "markdown",
   "id": "8d744ada",
   "metadata": {},
   "source": [
    "### 논리연산자와 비교연산자를 함께 사용하기"
   ]
  },
  {
   "cell_type": "markdown",
   "id": "d46bc2e5",
   "metadata": {},
   "source": [
    "- 비교연산자를 먼저 판단하고, 논리연산자(not and or) 판단"
   ]
  },
  {
   "cell_type": "code",
   "execution_count": 9,
   "id": "760a8013",
   "metadata": {},
   "outputs": [
    {
     "data": {
      "text/plain": [
       "True"
      ]
     },
     "execution_count": 9,
     "metadata": {},
     "output_type": "execute_result"
    }
   ],
   "source": [
    "10 == 10 and 10 !=5 #true and true"
   ]
  },
  {
   "cell_type": "code",
   "execution_count": 10,
   "id": "e2d32a2c",
   "metadata": {},
   "outputs": [
    {
     "data": {
      "text/plain": [
       "True"
      ]
     },
     "execution_count": 10,
     "metadata": {},
     "output_type": "execute_result"
    }
   ],
   "source": [
    "10 > 6 or 10 <3 #true or false"
   ]
  },
  {
   "cell_type": "code",
   "execution_count": 11,
   "id": "f750c3f7",
   "metadata": {},
   "outputs": [
    {
     "data": {
      "text/plain": [
       "False"
      ]
     },
     "execution_count": 11,
     "metadata": {},
     "output_type": "execute_result"
    }
   ],
   "source": [
    "not 10>5 #not true "
   ]
  },
  {
   "cell_type": "code",
   "execution_count": 12,
   "id": "b3f7b14c",
   "metadata": {},
   "outputs": [
    {
     "name": "stderr",
     "output_type": "stream",
     "text": [
      "<>:1: SyntaxWarning: \"is not\" with 'int' literal. Did you mean \"!=\"?\n",
      "<>:1: SyntaxWarning: \"is not\" with 'int' literal. Did you mean \"!=\"?\n",
      "C:\\Users\\82109\\AppData\\Local\\Temp\\ipykernel_32828\\1131302962.py:1: SyntaxWarning: \"is not\" with 'int' literal. Did you mean \"!=\"?\n",
      "  not 1 is 1.0 #not false\n"
     ]
    },
    {
     "data": {
      "text/plain": [
       "True"
      ]
     },
     "execution_count": 12,
     "metadata": {},
     "output_type": "execute_result"
    }
   ],
   "source": [
    "not 1 is 1.0 #not false"
   ]
  },
  {
   "cell_type": "markdown",
   "id": "bbaed658",
   "metadata": {},
   "source": [
    "### 정수, 실수, 문자열을 bool로 만들기 ?"
   ]
  },
  {
   "cell_type": "markdown",
   "id": "ae82d160",
   "metadata": {},
   "source": [
    "- 정수 1은 true, 0은 false 임 (정수 0, 실수 0.0 이외의 모든 숫자는 true)\n",
    "- 만약 문자열의 내용이 false 라도 ,불로 만들면 true임 \n",
    "- 문자열의 내용 자체는 판단하지 않으며 값이 있으면 true임 (빈문자열 \",\"\"를 제외한 모든 문자열은 true임.)"
   ]
  },
  {
   "cell_type": "code",
   "execution_count": 13,
   "id": "a6479ac4",
   "metadata": {},
   "outputs": [
    {
     "data": {
      "text/plain": [
       "True"
      ]
     },
     "execution_count": 13,
     "metadata": {},
     "output_type": "execute_result"
    }
   ],
   "source": [
    "bool(1)"
   ]
  },
  {
   "cell_type": "code",
   "execution_count": 14,
   "id": "78fef056",
   "metadata": {},
   "outputs": [
    {
     "data": {
      "text/plain": [
       "False"
      ]
     },
     "execution_count": 14,
     "metadata": {},
     "output_type": "execute_result"
    }
   ],
   "source": [
    "bool(0)"
   ]
  },
  {
   "cell_type": "code",
   "execution_count": 15,
   "id": "b80b2aa3",
   "metadata": {},
   "outputs": [
    {
     "data": {
      "text/plain": [
       "True"
      ]
     },
     "execution_count": 15,
     "metadata": {},
     "output_type": "execute_result"
    }
   ],
   "source": [
    "bool(1.5)"
   ]
  },
  {
   "cell_type": "code",
   "execution_count": null,
   "id": "fb0ecb44",
   "metadata": {},
   "outputs": [
    {
     "data": {
      "text/plain": [
       "True"
      ]
     },
     "execution_count": 16,
     "metadata": {},
     "output_type": "execute_result"
    }
   ],
   "source": [
    "bool('False') #내용 판단x "
   ]
  },
  {
   "cell_type": "code",
   "execution_count": 1,
   "id": "e6a5f0ba",
   "metadata": {},
   "outputs": [
    {
     "data": {
      "text/plain": [
       "False"
      ]
     },
     "execution_count": 1,
     "metadata": {},
     "output_type": "execute_result"
    }
   ],
   "source": [
    "bool(0)"
   ]
  },
  {
   "cell_type": "markdown",
   "id": "49e62ccd",
   "metadata": {},
   "source": [
    "### 단락 평가 ?"
   ]
  },
  {
   "cell_type": "markdown",
   "id": "30b9674e",
   "metadata": {},
   "source": [
    "- 논리 연산에서 중요한 부분 - 단락 평가(short-circuit evaluation)\n",
    "- what? \n",
    "    - 첫번째 값만으로 결과가 확실하다고 판단될 때, 두번째 값은 확인하지 않는 벙법 \n",
    "- and \n",
    "    - and 연산자는 두 값이 모두 참이라야 참이므로, 첫번째 값이 거짓이면 두번째 값은 확인하지 않고 바로 거짓으로 결정 \n",
    "- or \n",
    "    - or 연산자는 두 값 중 하나만 참이라도 참이므로 첫번째 값이 참이면 두번째 상관없이 바로 참으로 결정"
   ]
  },
  {
   "cell_type": "code",
   "execution_count": 2,
   "id": "4b5aa263",
   "metadata": {},
   "outputs": [
    {
     "name": "stdout",
     "output_type": "stream",
     "text": [
      "False\n",
      "False\n"
     ]
    }
   ],
   "source": [
    "#첫번째 값이 거짓이므로 두번째 값은 확인하지 않고 거짓으로 결정\n",
    "print(False and True)\n",
    "print(False and False)"
   ]
  },
  {
   "cell_type": "code",
   "execution_count": 3,
   "id": "9f672129",
   "metadata": {},
   "outputs": [
    {
     "name": "stdout",
     "output_type": "stream",
     "text": [
      "True\n",
      "True\n"
     ]
    }
   ],
   "source": [
    "#첫번째 값이 참이면 두번째 값은 확인하지 않아도 참으로 결정\n",
    "print(True or False)\n",
    "print(True or True)"
   ]
  },
  {
   "cell_type": "markdown",
   "id": "9cdec5ad",
   "metadata": {},
   "source": [
    "- 파이썬에서 논리연산자는 단락평가에 따라 반환하는 값이 결정된다. \n",
    "    - ***논리연산자는 마지막으로 단락 평가를 실시한 값을 그대로 반환한다***\n",
    "    - ***논리연산자라고 무조건 불을 반환하진 않는다.*** "
   ]
  },
  {
   "cell_type": "code",
   "execution_count": null,
   "id": "6c61cd09",
   "metadata": {},
   "outputs": [
    {
     "data": {
      "text/plain": [
       "'python'"
      ]
     },
     "execution_count": 4,
     "metadata": {},
     "output_type": "execute_result"
    }
   ],
   "source": [
    "# true and 'python'의 결과는 무엇이 나올까?\n",
    "True and 'python'\n",
    "\n",
    "#문자열 'python'도 불로 따지면 true라서 true and true 이기 때문에, \n",
    "#true가 나올 것 같지만, 'python' 이 나온다. 왜 일까 ?\n",
    "\n",
    "## 파이썬에서 논리 연산자는 '마지막으로 단락 평가를 실시한 값'을 그대로 반환하기 때문이다. "
   ]
  },
  {
   "cell_type": "code",
   "execution_count": 5,
   "id": "3e405b9a",
   "metadata": {},
   "outputs": [
    {
     "data": {
      "text/plain": [
       "True"
      ]
     },
     "execution_count": 5,
     "metadata": {},
     "output_type": "execute_result"
    }
   ],
   "source": [
    "#마지막으로 단락평가를 실시한 값이 불일 때는 불을 반환한다 . 무조건 불 반환 x \n",
    "'python' and True"
   ]
  },
  {
   "cell_type": "code",
   "execution_count": null,
   "id": "c20ccfc1",
   "metadata": {},
   "outputs": [
    {
     "data": {
      "text/plain": [
       "0"
      ]
     },
     "execution_count": 7,
     "metadata": {},
     "output_type": "execute_result"
    }
   ],
   "source": [
    "0 and 'python' #뒤에거 볼것도 없이 0이기 때문에 0반환. "
   ]
  },
  {
   "cell_type": "markdown",
   "id": "e1a9edd8",
   "metadata": {},
   "source": [
    "- or 연산자는 첫번째 값만으로 결과가 결정된다. "
   ]
  },
  {
   "cell_type": "code",
   "execution_count": 8,
   "id": "7a7bf837",
   "metadata": {},
   "outputs": [
    {
     "data": {
      "text/plain": [
       "True"
      ]
     },
     "execution_count": 8,
     "metadata": {},
     "output_type": "execute_result"
    }
   ],
   "source": [
    "True or 'python' #뒤에거 볼것도 없이 이미 true라 true 반환"
   ]
  },
  {
   "cell_type": "code",
   "execution_count": 10,
   "id": "ee6833cc",
   "metadata": {},
   "outputs": [
    {
     "data": {
      "text/plain": [
       "'python'"
      ]
     },
     "execution_count": 10,
     "metadata": {},
     "output_type": "execute_result"
    }
   ],
   "source": [
    "'python' or True #뒤에 뭐가 나오든 'python' 반환"
   ]
  },
  {
   "cell_type": "markdown",
   "id": "77259717",
   "metadata": {},
   "source": [
    "- 두번째 값까지 판단해야 한다면 두번째 값이 반환된다. "
   ]
  },
  {
   "cell_type": "code",
   "execution_count": null,
   "id": "42783a7a",
   "metadata": {},
   "outputs": [
    {
     "data": {
      "text/plain": [
       "'python'"
      ]
     },
     "execution_count": 11,
     "metadata": {},
     "output_type": "execute_result"
    }
   ],
   "source": [
    "False or 'python' #앞에 false니까 뒤에 true가 나올지 확인 필요함. "
   ]
  },
  {
   "cell_type": "code",
   "execution_count": null,
   "id": "93031a61",
   "metadata": {},
   "outputs": [
    {
     "data": {
      "text/plain": [
       "False"
      ]
     },
     "execution_count": 13,
     "metadata": {},
     "output_type": "execute_result"
    }
   ],
   "source": [
    "0 or False #앞에 0 즉, false 값이니까 뒤에 값을 확인해야함. "
   ]
  },
  {
   "cell_type": "markdown",
   "id": "8c116d7d",
   "metadata": {},
   "source": [
    "### 연습 문제 - 합격 여부 출력하기"
   ]
  },
  {
   "cell_type": "markdown",
   "id": "47f65e21",
   "metadata": {},
   "source": [
    "- 국어, 영어, 수학, 과학 점수가 있을 때 한 과목이라도 50점 미만이면 불합격이라고 정했습니다. 다음 소스 코드를 완성하여 합격이면 True, 불합격이면 False가 출력되게 만드세요.\n",
    "- korean = 92\n",
    "- english = 47\n",
    "- mathematics = 86\n",
    "- science = 81"
   ]
  },
  {
   "cell_type": "code",
   "execution_count": 14,
   "id": "580ad6eb",
   "metadata": {},
   "outputs": [
    {
     "data": {
      "text/plain": [
       "False"
      ]
     },
     "execution_count": 14,
     "metadata": {},
     "output_type": "execute_result"
    }
   ],
   "source": [
    "korean = 92\n",
    "english = 47\n",
    "mathematics = 86\n",
    "science = 81\n",
    "\n",
    "korean >= 50 and english >= 50 and mathematics >= 50 and science >= 50"
   ]
  },
  {
   "cell_type": "markdown",
   "id": "9e39df52",
   "metadata": {},
   "source": [
    "### 연습문제 - 합격 여부 출력하기 "
   ]
  },
  {
   "cell_type": "markdown",
   "id": "cb573252",
   "metadata": {},
   "source": [
    "- 표준 입력으로 국어, 영어, 수학, 과학 점수가 입력됩니다. 국어는 90점 이상, 영어는 80점 초과, 수학은 85점 초과, 과학은 80점 이상일 때 합격이라고 정했습니다(한 과목이라도 조건에 만족하지 않으면 불합격). 다음 소스 코드를 완성하여 합격이면 True, 불합격이면 False가 출력되게 만드세요(input에서 안내 문자열은 출력하지 않아야 합니다).\n",
    "- 입력 : 90 81 86 80\n",
    "\n",
    "- 결과 : true \n",
    "\n",
    "- 입력 : 90 80 85 80\n",
    "\n",
    "- 결과 : false "
   ]
  },
  {
   "cell_type": "markdown",
   "id": "4a538d4d",
   "metadata": {},
   "source": [
    "- 해결 방법 \n",
    "    1. input, split을 사용하여 변수 네개에 각각의 점수들을 저장해준다. \n",
    "    2. 입력받은 값들은 문자열 상태이므로 정수로 변환해준다 \n",
    "    3. 주어진 조건에 맞게 변수들을 연산자로 비교해준다. "
   ]
  },
  {
   "cell_type": "code",
   "execution_count": null,
   "id": "e5ede697",
   "metadata": {},
   "outputs": [
    {
     "data": {
      "text/plain": [
       "True"
      ]
     },
     "execution_count": 15,
     "metadata": {},
     "output_type": "execute_result"
    }
   ],
   "source": [
    "korean, english, mathematics, science = map(int, input('점수를 입력하세요').split())\n",
    "korean >= 90 and english > 80 and mathematics >85 and science >= 80"
   ]
  },
  {
   "cell_type": "code",
   "execution_count": null,
   "id": "269d238c",
   "metadata": {},
   "outputs": [],
   "source": []
  }
 ],
 "metadata": {
  "kernelspec": {
   "display_name": "Python 3",
   "language": "python",
   "name": "python3"
  },
  "language_info": {
   "codemirror_mode": {
    "name": "ipython",
    "version": 3
   },
   "file_extension": ".py",
   "mimetype": "text/x-python",
   "name": "python",
   "nbconvert_exporter": "python",
   "pygments_lexer": "ipython3",
   "version": "3.9.6"
  }
 },
 "nbformat": 4,
 "nbformat_minor": 5
}
