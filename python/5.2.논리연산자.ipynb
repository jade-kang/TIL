{
 "cells": [
  {
   "cell_type": "markdown",
   "id": "cf707259",
   "metadata": {},
   "source": [
    "### 논리연산자"
   ]
  },
  {
   "cell_type": "markdown",
   "id": "c5d90247",
   "metadata": {},
   "source": [
    "- and , or , not "
   ]
  },
  {
   "cell_type": "markdown",
   "id": "8769b039",
   "metadata": {},
   "source": [
    "1. and \n",
    "    - 둘다 true 일때만 결과가 true 로 나옴\n",
    "    - 나머지는 모두 false 로 결과가 나온다"
   ]
  },
  {
   "cell_type": "code",
   "execution_count": 3,
   "id": "152b43db",
   "metadata": {},
   "outputs": [
    {
     "data": {
      "text/plain": [
       "True"
      ]
     },
     "execution_count": 3,
     "metadata": {},
     "output_type": "execute_result"
    }
   ],
   "source": [
    "True and True"
   ]
  },
  {
   "cell_type": "code",
   "execution_count": 1,
   "id": "7110fbe7",
   "metadata": {},
   "outputs": [
    {
     "data": {
      "text/plain": [
       "False"
      ]
     },
     "execution_count": 1,
     "metadata": {},
     "output_type": "execute_result"
    }
   ],
   "source": [
    "True and False"
   ]
  },
  {
   "cell_type": "code",
   "execution_count": 2,
   "id": "d4731ef8",
   "metadata": {},
   "outputs": [
    {
     "data": {
      "text/plain": [
       "False"
      ]
     },
     "execution_count": 2,
     "metadata": {},
     "output_type": "execute_result"
    }
   ],
   "source": [
    "False and False"
   ]
  },
  {
   "cell_type": "markdown",
   "id": "aa297dda",
   "metadata": {},
   "source": [
    "2. or\n",
    "    - false or false 일때만 false 나옴 \n",
    "    - 하나라도 true 가 있으면 true로 결과 나옴"
   ]
  },
  {
   "cell_type": "code",
   "execution_count": 4,
   "id": "087b38c1",
   "metadata": {},
   "outputs": [
    {
     "data": {
      "text/plain": [
       "True"
      ]
     },
     "execution_count": 4,
     "metadata": {},
     "output_type": "execute_result"
    }
   ],
   "source": [
    "True or True"
   ]
  },
  {
   "cell_type": "code",
   "execution_count": 5,
   "id": "40078274",
   "metadata": {},
   "outputs": [
    {
     "data": {
      "text/plain": [
       "True"
      ]
     },
     "execution_count": 5,
     "metadata": {},
     "output_type": "execute_result"
    }
   ],
   "source": [
    "True or False"
   ]
  },
  {
   "cell_type": "code",
   "execution_count": 6,
   "id": "a5311ae3",
   "metadata": {},
   "outputs": [
    {
     "data": {
      "text/plain": [
       "False"
      ]
     },
     "execution_count": 6,
     "metadata": {},
     "output_type": "execute_result"
    }
   ],
   "source": [
    "False or False"
   ]
  },
  {
   "cell_type": "markdown",
   "id": "4c7486d6",
   "metadata": {},
   "source": [
    "3. not \n",
    "    - 논리값 결과를 뒤집는다 \n",
    "    - not true는 false, not false는 true가 된다\n",
    "    - and, or, not 논리 연산자가 식 하나에 들어있으면 ***not, and, or*** 순으로 판단 "
   ]
  },
  {
   "cell_type": "code",
   "execution_count": 8,
   "id": "d2bbf587",
   "metadata": {},
   "outputs": [
    {
     "data": {
      "text/plain": [
       "True"
      ]
     },
     "execution_count": 8,
     "metadata": {},
     "output_type": "execute_result"
    }
   ],
   "source": [
    "not True and False or not False \n",
    "#not, and, or 순으로 처리 \n",
    "\n",
    "#not부터 처리하면 \n",
    "    #false and false or true \n",
    "#and 처리 \n",
    "    #false or true \n",
    "    #true\n",
    "\n",
    "#순서가 헷갈리면 괄호 처리하고 생각"
   ]
  },
  {
   "cell_type": "markdown",
   "id": "8d744ada",
   "metadata": {},
   "source": [
    "### 논리연산자와 비교연산자를 함께 사용하기"
   ]
  },
  {
   "cell_type": "markdown",
   "id": "d46bc2e5",
   "metadata": {},
   "source": [
    "- 비교연산자를 먼저 판단하고, 논리연산자(not and or) 판단"
   ]
  },
  {
   "cell_type": "code",
   "execution_count": 9,
   "id": "760a8013",
   "metadata": {},
   "outputs": [
    {
     "data": {
      "text/plain": [
       "True"
      ]
     },
     "execution_count": 9,
     "metadata": {},
     "output_type": "execute_result"
    }
   ],
   "source": [
    "10 == 10 and 10 !=5 #true and true"
   ]
  },
  {
   "cell_type": "code",
   "execution_count": 10,
   "id": "e2d32a2c",
   "metadata": {},
   "outputs": [
    {
     "data": {
      "text/plain": [
       "True"
      ]
     },
     "execution_count": 10,
     "metadata": {},
     "output_type": "execute_result"
    }
   ],
   "source": [
    "10 > 6 or 10 <3 #true or false"
   ]
  },
  {
   "cell_type": "code",
   "execution_count": 11,
   "id": "f750c3f7",
   "metadata": {},
   "outputs": [
    {
     "data": {
      "text/plain": [
       "False"
      ]
     },
     "execution_count": 11,
     "metadata": {},
     "output_type": "execute_result"
    }
   ],
   "source": [
    "not 10>5 #not true "
   ]
  },
  {
   "cell_type": "code",
   "execution_count": 12,
   "id": "b3f7b14c",
   "metadata": {},
   "outputs": [
    {
     "name": "stderr",
     "output_type": "stream",
     "text": [
      "<>:1: SyntaxWarning: \"is not\" with 'int' literal. Did you mean \"!=\"?\n",
      "<>:1: SyntaxWarning: \"is not\" with 'int' literal. Did you mean \"!=\"?\n",
      "C:\\Users\\82109\\AppData\\Local\\Temp\\ipykernel_32828\\1131302962.py:1: SyntaxWarning: \"is not\" with 'int' literal. Did you mean \"!=\"?\n",
      "  not 1 is 1.0 #not false\n"
     ]
    },
    {
     "data": {
      "text/plain": [
       "True"
      ]
     },
     "execution_count": 12,
     "metadata": {},
     "output_type": "execute_result"
    }
   ],
   "source": [
    "not 1 is 1.0 #not false"
   ]
  },
  {
   "cell_type": "markdown",
   "id": "bbaed658",
   "metadata": {},
   "source": [
    "### 정수, 실수, 문자열을 bool로 만들기 ?"
   ]
  },
  {
   "cell_type": "markdown",
   "id": "ae82d160",
   "metadata": {},
   "source": [
    "- 정수 1은 true, 0은 false 임 (정수 0, 실수 0.0 이외의 모든 숫자는 true)\n",
    "- 만약 문자열의 내용이 false 라도 ,불로 만들면 true임 \n",
    "- 문자열의 내용 자체는 판단하지 않으며 값이 있으면 true임 (빈문자열 \",\"\"를 제외한 모든 문자열은 true임.)"
   ]
  },
  {
   "cell_type": "code",
   "execution_count": 13,
   "id": "a6479ac4",
   "metadata": {},
   "outputs": [
    {
     "data": {
      "text/plain": [
       "True"
      ]
     },
     "execution_count": 13,
     "metadata": {},
     "output_type": "execute_result"
    }
   ],
   "source": [
    "bool(1)"
   ]
  },
  {
   "cell_type": "code",
   "execution_count": 14,
   "id": "78fef056",
   "metadata": {},
   "outputs": [
    {
     "data": {
      "text/plain": [
       "False"
      ]
     },
     "execution_count": 14,
     "metadata": {},
     "output_type": "execute_result"
    }
   ],
   "source": [
    "bool(0)"
   ]
  },
  {
   "cell_type": "code",
   "execution_count": 15,
   "id": "b80b2aa3",
   "metadata": {},
   "outputs": [
    {
     "data": {
      "text/plain": [
       "True"
      ]
     },
     "execution_count": 15,
     "metadata": {},
     "output_type": "execute_result"
    }
   ],
   "source": [
    "bool(1.5)"
   ]
  },
  {
   "cell_type": "code",
   "execution_count": null,
   "id": "fb0ecb44",
   "metadata": {},
   "outputs": [
    {
     "data": {
      "text/plain": [
       "True"
      ]
     },
     "execution_count": 16,
     "metadata": {},
     "output_type": "execute_result"
    }
   ],
   "source": [
    "bool('False') #내용 판단x "
   ]
  },
  {
   "cell_type": "code",
   "execution_count": 1,
   "id": "e6a5f0ba",
   "metadata": {},
   "outputs": [
    {
     "data": {
      "text/plain": [
       "False"
      ]
     },
     "execution_count": 1,
     "metadata": {},
     "output_type": "execute_result"
    }
   ],
   "source": [
    "bool(0)"
   ]
  },
  {
   "cell_type": "markdown",
   "id": "49e62ccd",
   "metadata": {},
   "source": [
    "### 단락 평가 ?"
   ]
  },
  {
   "cell_type": "markdown",
   "id": "30b9674e",
   "metadata": {},
   "source": [
    "- 논리 연산에서 중요한 부분 - 단락 평가(short-circuit evaluation)"
   ]
  },
  {
   "cell_type": "code",
   "execution_count": null,
   "id": "4b5aa263",
   "metadata": {},
   "outputs": [],
   "source": []
  },
  {
   "cell_type": "code",
   "execution_count": null,
   "id": "9f672129",
   "metadata": {},
   "outputs": [],
   "source": []
  }
 ],
 "metadata": {
  "kernelspec": {
   "display_name": "base",
   "language": "python",
   "name": "python3"
  },
  "language_info": {
   "codemirror_mode": {
    "name": "ipython",
    "version": 3
   },
   "file_extension": ".py",
   "mimetype": "text/x-python",
   "name": "python",
   "nbconvert_exporter": "python",
   "pygments_lexer": "ipython3",
   "version": "3.12.7"
  }
 },
 "nbformat": 4,
 "nbformat_minor": 5
}
