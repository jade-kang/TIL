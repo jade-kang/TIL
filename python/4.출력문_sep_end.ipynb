{
 "cells": [
  {
   "cell_type": "markdown",
   "id": "41a936be",
   "metadata": {},
   "source": [
    "### SEP - PRINT 하나로 여러 값을 출력하기 "
   ]
  },
  {
   "cell_type": "markdown",
   "id": "beb924cb",
   "metadata": {},
   "source": [
    "- PRINT에는 변수나 값 여러 개를 콤마로 구분하여 넣을 수 있다. \n",
    "- 공백으로 값들이 분리되어서 나온다\n",
    "\n",
    "- sep = \"\" ?\n",
    "    - 출력할 값들 사이에 삽입할 문자 지정. \n",
    "    - 기본값은 공백(\" \")"
   ]
  },
  {
   "cell_type": "code",
   "execution_count": 2,
   "id": "fb02861f",
   "metadata": {},
   "outputs": [
    {
     "name": "stdout",
     "output_type": "stream",
     "text": [
      "1 2 3\n"
     ]
    }
   ],
   "source": [
    "print(1,2,3)"
   ]
  },
  {
   "cell_type": "code",
   "execution_count": 1,
   "id": "b10f7c88",
   "metadata": {},
   "outputs": [
    {
     "name": "stdout",
     "output_type": "stream",
     "text": [
      "hello python\n"
     ]
    }
   ],
   "source": [
    "print('hello', 'python')"
   ]
  },
  {
   "cell_type": "markdown",
   "id": "2d06499e",
   "metadata": {},
   "source": [
    "- 값 사이에 공백이 아닌 다른 문자를 넣고 싶을때는 sep 사용(separator)"
   ]
  },
  {
   "cell_type": "code",
   "execution_count": 3,
   "id": "ea697c70",
   "metadata": {},
   "outputs": [
    {
     "name": "stdout",
     "output_type": "stream",
     "text": [
      "1, 2, 3\n"
     ]
    }
   ],
   "source": [
    "print(1,2,3, sep=', ') #sep에 콤마와 공백 지정"
   ]
  },
  {
   "cell_type": "code",
   "execution_count": 4,
   "id": "66935872",
   "metadata": {},
   "outputs": [
    {
     "name": "stdout",
     "output_type": "stream",
     "text": [
      "minki\n"
     ]
    }
   ],
   "source": [
    "print('min','ki', sep='') #띄우지 않고 붙이려면"
   ]
  },
  {
   "cell_type": "markdown",
   "id": "4f3cae59",
   "metadata": {},
   "source": [
    "### 줄바꿈(개행) 활용하기"
   ]
  },
  {
   "cell_type": "markdown",
   "id": "0963080b",
   "metadata": {},
   "source": [
    "- print에 여러 값을 출력할 때, 줄바꿈시키려면?\n",
    "- 역슬래쉬+n \n",
    "    - 제어문자라 출력화면 상에는 보이지 않는다"
   ]
  },
  {
   "cell_type": "code",
   "execution_count": 5,
   "id": "77a9f3ed",
   "metadata": {},
   "outputs": [
    {
     "name": "stdout",
     "output_type": "stream",
     "text": [
      "1\n",
      "2\n",
      "3\n"
     ]
    }
   ],
   "source": [
    "print(1,2,3, sep='\\n') "
   ]
  },
  {
   "cell_type": "code",
   "execution_count": null,
   "id": "e587bfc4",
   "metadata": {},
   "outputs": [
    {
     "name": "stdout",
     "output_type": "stream",
     "text": [
      "1\n",
      "2\n",
      "3\n"
     ]
    }
   ],
   "source": [
    "print('1\\n2\\n3') #\\n은 다른 문자, 숫자와 붙여서 써도 된다."
   ]
  },
  {
   "cell_type": "markdown",
   "id": "6f6ab661",
   "metadata": {},
   "source": [
    "### 제어문자"
   ]
  },
  {
   "cell_type": "markdown",
   "id": "be5406db",
   "metadata": {},
   "source": [
    "- 제어문자는 화면에 출력되지 않지만, 출력 결과를 제어한다고 해서 제어 문자라고 부른다. \n",
    "- 제어 문자는 \\로 시작하는 이스케이프 시퀀스 \n",
    "- \\n : 다음 줄로 이동 (개행)\n",
    "- \\t : 탭과 같이 여러 칸을 띄움\n",
    "- \\\\ : \\ 문자 자체를 출력할 때는 \\를 두번쓴다. "
   ]
  },
  {
   "cell_type": "code",
   "execution_count": 7,
   "id": "50212032",
   "metadata": {},
   "outputs": [
    {
     "name": "stdout",
     "output_type": "stream",
     "text": [
      "1\t2\t3\n"
     ]
    }
   ],
   "source": [
    "print(1,2,3,sep='\\t')"
   ]
  },
  {
   "cell_type": "code",
   "execution_count": 8,
   "id": "351b7215",
   "metadata": {},
   "outputs": [
    {
     "name": "stdout",
     "output_type": "stream",
     "text": [
      "1\\2\\3\n"
     ]
    }
   ],
   "source": [
    "print(1,2,3,sep='\\\\')"
   ]
  },
  {
   "cell_type": "markdown",
   "id": "f27e3daa",
   "metadata": {},
   "source": [
    "### END "
   ]
  },
  {
   "cell_type": "markdown",
   "id": "0de18641",
   "metadata": {},
   "source": [
    "- PRINT를 여러 번 사용해서, 개행이 아닌, print(1,2,3) 처럼 한줄에 여러 값을 출력하는 법? \n",
    "- print의 end에 빈 문자열 지정해주기 \n",
    "- end = \"\" ?\n",
    "    - print의 모든 문자열 출력 후 마지막에 붙는 문자열. \n",
    "    - 무조건 문자열로 설정 \n",
    "    - 기본값은 줄바꿈 escape code(\\n)이다\n"
   ]
  },
  {
   "cell_type": "code",
   "execution_count": 9,
   "id": "6e25467e",
   "metadata": {},
   "outputs": [
    {
     "name": "stdout",
     "output_type": "stream",
     "text": [
      "1\n",
      "2\n",
      "3\n"
     ]
    }
   ],
   "source": [
    "print(1)\n",
    "print(2)\n",
    "print(3)"
   ]
  },
  {
   "cell_type": "markdown",
   "id": "ae68ecf3",
   "metadata": {},
   "source": [
    "- 기본적으로 print의 end에 \\n이 지정된 상태인데, 빈 문자열을 지정하면, 강제로 \\n을 지워주기 때문이다. \n",
    "- ***end는 현재 print가 끝난 뒤 '그 다음에 오는' print 함수에 영향을 준다.*** "
   ]
  },
  {
   "cell_type": "code",
   "execution_count": 11,
   "id": "be9feb81",
   "metadata": {},
   "outputs": [
    {
     "name": "stdout",
     "output_type": "stream",
     "text": [
      "123\n"
     ]
    }
   ],
   "source": [
    "print(1, end=\"\") #end에 빈 문자열 지정하여 다음번 출력이 바로 뒤에 오게 함\n",
    "print(2, end=\"\")\n",
    "print(3)"
   ]
  },
  {
   "cell_type": "code",
   "execution_count": 12,
   "id": "aec882e4",
   "metadata": {},
   "outputs": [
    {
     "name": "stdout",
     "output_type": "stream",
     "text": [
      "1 2 3\n"
     ]
    }
   ],
   "source": [
    "# 사이에 한칸씩 공백 주기\n",
    "print(1, end=\" \")\n",
    "print(2, end=\" \")\n",
    "print(3)"
   ]
  },
  {
   "cell_type": "markdown",
   "id": "5df4ac23",
   "metadata": {},
   "source": [
    "### 연습문제"
   ]
  },
  {
   "cell_type": "markdown",
   "id": "5c4b996e",
   "metadata": {},
   "source": [
    "- 날짜와 시간 출력하기 \n",
    "- 다음 소스코드를 완성하여 날짜와 시간이 출력되게 만드시오 \n",
    "\n",
    "- year = 2000\n",
    "- month = 10\n",
    "- day = 27\n",
    "- hour = 11\n",
    "- minute = 43\n",
    "- second = 59\n",
    " \n",
    "- print(year, month, day, ①               )\n",
    "- print(hour, minute, second, ②       )\n",
    "\n",
    "- 실행결과가 아래와 같이 나오도록 하시오 \n",
    "    - 2000/10/27 11:43:59\n"
   ]
  },
  {
   "cell_type": "code",
   "execution_count": 13,
   "id": "12cc8a42",
   "metadata": {},
   "outputs": [
    {
     "name": "stdout",
     "output_type": "stream",
     "text": [
      "2000/10/27 11:43:59\n"
     ]
    }
   ],
   "source": [
    "year = 2000\n",
    "month = 10\n",
    "day = 27\n",
    "hour = 11\n",
    "minute = 43\n",
    "second = 59\n",
    "\n",
    "print(year, month, day, sep=\"/\", end=\" \")\n",
    "print(hour, minute, second, sep=\":\")"
   ]
  },
  {
   "cell_type": "markdown",
   "id": "0bf9c944",
   "metadata": {},
   "source": [
    "- 표준 입력으로 년, 월, 일, 시, 분, 초가 입력됩니다. 다음 소스 코드를 완성하여 입력된 날짜와 시간을 년-월-일T시:분:초 형식으로 출력되게 만드세요."
   ]
  },
  {
   "cell_type": "markdown",
   "id": "d00dbcd0",
   "metadata": {},
   "source": [
    "- judge_print.py\n",
    "\n",
    "\n",
    "year, month, day, hour, minute, second = input().split()\n",
    "\n",
    "_______________________________________\n",
    "print(hour, minute, second, sep=':')\n",
    "\n",
    "- 입력 : 1999 12 31 10 37 21\n",
    "- 결과 : 1999-12-31T10:37:21\n",
    "\n",
    "- 입력 : 2017 10 27 11 43 59\n",
    "- 결과 : 2017-10-27T11:43:59\n",
    "\n"
   ]
  },
  {
   "cell_type": "code",
   "execution_count": 16,
   "id": "eaf9f216",
   "metadata": {},
   "outputs": [
    {
     "name": "stdout",
     "output_type": "stream",
     "text": [
      "1999-12-31T10:37:21\n"
     ]
    }
   ],
   "source": [
    "year = 1999\n",
    "month = 12\n",
    "day = 31\n",
    "hour = 10\n",
    "minute = 37\n",
    "second = 21 \n",
    "\n",
    "print(year, month, day, sep='-', end='T')\n",
    "print(hour, minute, second, sep=':')"
   ]
  },
  {
   "cell_type": "code",
   "execution_count": null,
   "id": "567d2f1e",
   "metadata": {},
   "outputs": [],
   "source": []
  }
 ],
 "metadata": {
  "kernelspec": {
   "display_name": "base",
   "language": "python",
   "name": "python3"
  },
  "language_info": {
   "codemirror_mode": {
    "name": "ipython",
    "version": 3
   },
   "file_extension": ".py",
   "mimetype": "text/x-python",
   "name": "python",
   "nbconvert_exporter": "python",
   "pygments_lexer": "ipython3",
   "version": "3.12.7"
  }
 },
 "nbformat": 4,
 "nbformat_minor": 5
}
