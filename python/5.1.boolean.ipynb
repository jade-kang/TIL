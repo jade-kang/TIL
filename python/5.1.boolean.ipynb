{
 "cells": [
  {
   "cell_type": "markdown",
   "id": "1c57946c",
   "metadata": {},
   "source": [
    "### 논리연산자"
   ]
  },
  {
   "cell_type": "markdown",
   "id": "d2b9270c",
   "metadata": {},
   "source": [
    "- 프로그래밍에서는 참, 거짓을 판단할 상황이 많다. \n",
    "- Boolean : true , false를 나타냄 \n",
    "- 논리연산자 : 두 값의 관계 판단 "
   ]
  },
  {
   "cell_type": "markdown",
   "id": "917c7faf",
   "metadata": {},
   "source": [
    "- 비교 연산자의 판단 "
   ]
  },
  {
   "cell_type": "code",
   "execution_count": 2,
   "id": "8b3302c7",
   "metadata": {},
   "outputs": [
    {
     "data": {
      "text/plain": [
       "True"
      ]
     },
     "execution_count": 2,
     "metadata": {},
     "output_type": "execute_result"
    }
   ],
   "source": [
    "3>1"
   ]
  },
  {
   "cell_type": "markdown",
   "id": "f878f05b",
   "metadata": {},
   "source": [
    "- 숫자가 같은지 , 다른지 판단"
   ]
  },
  {
   "cell_type": "code",
   "execution_count": null,
   "id": "6fcb678a",
   "metadata": {},
   "outputs": [
    {
     "data": {
      "text/plain": [
       "True"
      ]
     },
     "execution_count": 1,
     "metadata": {},
     "output_type": "execute_result"
    }
   ],
   "source": [
    "#같다를 표현할 때는 ==  (등호 한개는 변수의 할당연산자)\n",
    "3 == 3"
   ]
  },
  {
   "cell_type": "code",
   "execution_count": null,
   "id": "35f3a165",
   "metadata": {},
   "outputs": [
    {
     "data": {
      "text/plain": [
       "True"
      ]
     },
     "execution_count": 3,
     "metadata": {},
     "output_type": "execute_result"
    }
   ],
   "source": [
    "#같지 않다는 != \n",
    "10 != 5"
   ]
  },
  {
   "cell_type": "markdown",
   "id": "26bfc2c6",
   "metadata": {},
   "source": [
    "- 문자열이 같은지 다른지 판단"
   ]
  },
  {
   "cell_type": "code",
   "execution_count": 5,
   "id": "873932c4",
   "metadata": {},
   "outputs": [
    {
     "data": {
      "text/plain": [
       "False"
      ]
     },
     "execution_count": 5,
     "metadata": {},
     "output_type": "execute_result"
    }
   ],
   "source": [
    "'python' == 'Python'"
   ]
  },
  {
   "cell_type": "markdown",
   "id": "e5d2d64d",
   "metadata": {},
   "source": [
    "- 부등호 사용하기"
   ]
  },
  {
   "cell_type": "code",
   "execution_count": 6,
   "id": "9f15579a",
   "metadata": {},
   "outputs": [
    {
     "data": {
      "text/plain": [
       "True"
      ]
     },
     "execution_count": 6,
     "metadata": {},
     "output_type": "execute_result"
    }
   ],
   "source": [
    "10 >= 10"
   ]
  },
  {
   "cell_type": "markdown",
   "id": "674fa3cf",
   "metadata": {},
   "source": [
    "- 객체가 같은지 다른지 판단 \n",
    "    - is , is not 사용 \n",
    "    - ==와 != 는 값 자체를 비교하고, is, is not은 '객체(object)'를 비교한다. "
   ]
  },
  {
   "cell_type": "code",
   "execution_count": null,
   "id": "60bc2807",
   "metadata": {},
   "outputs": [
    {
     "data": {
      "text/plain": [
       "True"
      ]
     },
     "execution_count": 7,
     "metadata": {},
     "output_type": "execute_result"
    }
   ],
   "source": [
    "1 == 1.0  #값 자체는 같기 때문에 == 로 비교하면 true가 나온다. "
   ]
  },
  {
   "cell_type": "code",
   "execution_count": null,
   "id": "bd88793b",
   "metadata": {},
   "outputs": [
    {
     "name": "stderr",
     "output_type": "stream",
     "text": [
      "<>:1: SyntaxWarning: \"is\" with 'int' literal. Did you mean \"==\"?\n",
      "<>:1: SyntaxWarning: \"is\" with 'int' literal. Did you mean \"==\"?\n",
      "C:\\Users\\82109\\AppData\\Local\\Temp\\ipykernel_12608\\3336455986.py:1: SyntaxWarning: \"is\" with 'int' literal. Did you mean \"==\"?\n",
      "  1 is 1.0\n"
     ]
    },
    {
     "data": {
      "text/plain": [
       "False"
      ]
     },
     "execution_count": 8,
     "metadata": {},
     "output_type": "execute_result"
    }
   ],
   "source": [
    "1 is 1.0  #1은 '정수' 객체, 1.0은 '실수'객체이므로 서로 다르다 "
   ]
  },
  {
   "cell_type": "code",
   "execution_count": 9,
   "id": "781a08d9",
   "metadata": {},
   "outputs": [
    {
     "name": "stderr",
     "output_type": "stream",
     "text": [
      "<>:1: SyntaxWarning: \"is not\" with 'int' literal. Did you mean \"!=\"?\n",
      "<>:1: SyntaxWarning: \"is not\" with 'int' literal. Did you mean \"!=\"?\n",
      "C:\\Users\\82109\\AppData\\Local\\Temp\\ipykernel_12608\\2095918375.py:1: SyntaxWarning: \"is not\" with 'int' literal. Did you mean \"!=\"?\n",
      "  1 is not 1.0\n"
     ]
    },
    {
     "data": {
      "text/plain": [
       "True"
      ]
     },
     "execution_count": 9,
     "metadata": {},
     "output_type": "execute_result"
    }
   ],
   "source": [
    "1 is not 1.0"
   ]
  },
  {
   "cell_type": "markdown",
   "id": "c6f7f8df",
   "metadata": {},
   "source": [
    "+두 객체가 같은지 다른지 판단하는 법 ? \n",
    "    - id를 사용한다. "
   ]
  },
  {
   "cell_type": "code",
   "execution_count": null,
   "id": "e5b2ef77",
   "metadata": {},
   "outputs": [
    {
     "name": "stdout",
     "output_type": "stream",
     "text": [
      "140721766410680\n",
      "2199543294800\n"
     ]
    }
   ],
   "source": [
    "print(id(1))\n",
    "print(id(1.0))   #id는 객체의 고유한 값(메모리 주소)를 구한다. "
   ]
  },
  {
   "cell_type": "markdown",
   "id": "d18ec65b",
   "metadata": {},
   "source": [
    "- 값 비교에 is 쓰지 않기 \n",
    "    - is는 같은 객체, 즉 같은 ***메모리 위치*** 인지를 확인하는 것 \n",
    "    - 값 비교는 무조건 ==, !="
   ]
  },
  {
   "cell_type": "code",
   "execution_count": 11,
   "id": "5accd4e7",
   "metadata": {},
   "outputs": [
    {
     "name": "stderr",
     "output_type": "stream",
     "text": [
      "<>:2: SyntaxWarning: \"is\" with 'int' literal. Did you mean \"==\"?\n",
      "<>:2: SyntaxWarning: \"is\" with 'int' literal. Did you mean \"==\"?\n",
      "C:\\Users\\82109\\AppData\\Local\\Temp\\ipykernel_12608\\1689584244.py:2: SyntaxWarning: \"is\" with 'int' literal. Did you mean \"==\"?\n",
      "  a is -5\n"
     ]
    },
    {
     "data": {
      "text/plain": [
       "True"
      ]
     },
     "execution_count": 11,
     "metadata": {},
     "output_type": "execute_result"
    }
   ],
   "source": [
    "a = -5 \n",
    "a is -5"
   ]
  },
  {
   "cell_type": "code",
   "execution_count": 12,
   "id": "b5280bf5",
   "metadata": {},
   "outputs": [
    {
     "name": "stderr",
     "output_type": "stream",
     "text": [
      "<>:2: SyntaxWarning: \"is\" with 'int' literal. Did you mean \"==\"?\n",
      "<>:2: SyntaxWarning: \"is\" with 'int' literal. Did you mean \"==\"?\n",
      "C:\\Users\\82109\\AppData\\Local\\Temp\\ipykernel_12608\\1053937534.py:2: SyntaxWarning: \"is\" with 'int' literal. Did you mean \"==\"?\n",
      "  a is -6 #이렇게 하면 false가 나옴. 객체는 다르기 때문\n"
     ]
    },
    {
     "data": {
      "text/plain": [
       "False"
      ]
     },
     "execution_count": 12,
     "metadata": {},
     "output_type": "execute_result"
    }
   ],
   "source": [
    "a = -6\n",
    "a is -6 #이렇게 하면 false가 나옴. 객체는 다르기 때문"
   ]
  },
  {
   "cell_type": "code",
   "execution_count": null,
   "id": "9a53a0df",
   "metadata": {},
   "outputs": [
    {
     "name": "stdout",
     "output_type": "stream",
     "text": [
      "2199543286192\n",
      "2199543297200\n"
     ]
    }
   ],
   "source": [
    "print(id(a))\n",
    "print(id(-6)) #다르게 나오는걸 확인할 수 있다."
   ]
  },
  {
   "cell_type": "code",
   "execution_count": null,
   "id": "64a4d18e",
   "metadata": {},
   "outputs": [],
   "source": []
  }
 ],
 "metadata": {
  "kernelspec": {
   "display_name": "base",
   "language": "python",
   "name": "python3"
  },
  "language_info": {
   "codemirror_mode": {
    "name": "ipython",
    "version": 3
   },
   "file_extension": ".py",
   "mimetype": "text/x-python",
   "name": "python",
   "nbconvert_exporter": "python",
   "pygments_lexer": "ipython3",
   "version": "3.12.7"
  }
 },
 "nbformat": 4,
 "nbformat_minor": 5
}
