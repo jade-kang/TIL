{
 "cells": [
  {
   "cell_type": "markdown",
   "id": "3c3ebbf9",
   "metadata": {},
   "source": [
    "### 슬라이스 ?"
   ]
  },
  {
   "attachments": {
    "image.png": {
     "image/png": "[encoded data removed]"
    }
   },
   "cell_type": "markdown",
   "id": "fe81c318",
   "metadata": {},
   "source": [
    "- 시퀀스 슬라이스 : 시퀀스 객체의 일부를 잘라냄 \n",
    "    - 시퀀스객체[시작인덱스 : 끝인덱스]\n",
    "    - 리스트의 일부를 잘라서 새로운 리스트를 만들 수 있다. \n",
    "    ![image.png](attachment:image.png)"
   ]
  },
  {
   "cell_type": "code",
   "execution_count": 1,
   "id": "3e357a66",
   "metadata": {},
   "outputs": [
    {
     "data": {
      "text/plain": [
       "[0, 1, 2, 3]"
      ]
     },
     "execution_count": 1,
     "metadata": {},
     "output_type": "execute_result"
    }
   ],
   "source": [
    "a = [0,1,2,3,4,5,6]\n",
    "b = a[0:4]\n",
    "b"
   ]
  },
  {
   "cell_type": "markdown",
   "id": "33eba62b",
   "metadata": {},
   "source": [
    "- 리스트를 처음부터 끝까지 가져오기 ? "
   ]
  },
  {
   "cell_type": "code",
   "execution_count": 3,
   "id": "6171b07d",
   "metadata": {},
   "outputs": [
    {
     "data": {
      "text/plain": [
       "[0, 1, 2, 3, 4, 5, 6]"
      ]
     },
     "execution_count": 3,
     "metadata": {},
     "output_type": "execute_result"
    }
   ],
   "source": [
    "a[0:]"
   ]
  },
  {
   "cell_type": "markdown",
   "id": "765237cb",
   "metadata": {},
   "source": [
    "- 리스트의 중간 부분 가져오기 "
   ]
  },
  {
   "cell_type": "code",
   "execution_count": 4,
   "id": "93cf82fa",
   "metadata": {},
   "outputs": [
    {
     "data": {
      "text/plain": [
       "[4, 5]"
      ]
     },
     "execution_count": 4,
     "metadata": {},
     "output_type": "execute_result"
    }
   ],
   "source": [
    "a[4:6]"
   ]
  },
  {
   "cell_type": "markdown",
   "id": "17aac5d3",
   "metadata": {},
   "source": [
    "- 음수 인덱스 지정"
   ]
  },
  {
   "cell_type": "code",
   "execution_count": 5,
   "id": "ab339f8a",
   "metadata": {},
   "outputs": [
    {
     "data": {
      "text/plain": [
       "[0, 1, 2, 3, 4, 5]"
      ]
     },
     "execution_count": 5,
     "metadata": {},
     "output_type": "execute_result"
    }
   ],
   "source": [
    "a[0:-1]"
   ]
  },
  {
   "cell_type": "markdown",
   "id": "f737e72f",
   "metadata": {},
   "source": [
    "### 인덱스 증가폭 사용하기 "
   ]
  },
  {
   "cell_type": "markdown",
   "id": "9ccf002e",
   "metadata": {},
   "source": [
    "- 슬라이스는 인덱스의 증가폭을 지정하여 범위 내에서 인덱스를 건너 뛰며 요소를 가져올 수 있다. "
   ]
  },
  {
   "cell_type": "code",
   "execution_count": 7,
   "id": "a1a8e648",
   "metadata": {},
   "outputs": [
    {
     "data": {
      "text/plain": [
       "[0, 30, 60]"
      ]
     },
     "execution_count": 7,
     "metadata": {},
     "output_type": "execute_result"
    }
   ],
   "source": [
    "#인덱스를 3씩 증가시키면서 가져오기 \n",
    "a = list(range(0,100,10))\n",
    "a[0:8:3] #인덱스 0부터 3씩 증가하면서 7까지 가져옴 "
   ]
  },
  {
   "cell_type": "markdown",
   "id": "76a2fda3",
   "metadata": {},
   "source": [
    "### 인덱스 생략하기 "
   ]
  },
  {
   "cell_type": "markdown",
   "id": "2162127d",
   "metadata": {},
   "source": [
    "- 슬라이스를 사용할 때 시작 인덱스와 끝 인덱스 생략 가능 \n",
    "    - 리스트 a에서 a[:7]과 같이 시작인덱스 생략하면 리스트의 처음부터 끝 인덱스 -1 (인덱스6) 까지 가져옴\n",
    "    - a[:]처럼 시작, 끝인덱스 모두 생략하면 전부 가져옴"
   ]
  },
  {
   "cell_type": "code",
   "execution_count": 8,
   "id": "b483c4d3",
   "metadata": {},
   "outputs": [
    {
     "data": {
      "text/plain": [
       "[0, 10, 20, 30, 40, 50, 60]"
      ]
     },
     "execution_count": 8,
     "metadata": {},
     "output_type": "execute_result"
    }
   ],
   "source": [
    "a = list(range(0,100,10))\n",
    "a[:7]"
   ]
  },
  {
   "cell_type": "code",
   "execution_count": null,
   "id": "35612ea5",
   "metadata": {},
   "outputs": [
    {
     "data": {
      "text/plain": [
       "[0, 10, 20, 30, 40, 50, 60, 70, 80, 90]"
      ]
     },
     "execution_count": 9,
     "metadata": {},
     "output_type": "execute_result"
    }
   ],
   "source": [
    "a[:]  "
   ]
  },
  {
   "cell_type": "code",
   "execution_count": null,
   "id": "88a4de09",
   "metadata": {},
   "outputs": [
    {
     "data": {
      "text/plain": [
       "[0, 10, 20, 30, 40, 50, 60, 70, 80, 90]"
      ]
     },
     "execution_count": 13,
     "metadata": {},
     "output_type": "execute_result"
    }
   ],
   "source": [
    "a[::] #a[:]과 동일하다. "
   ]
  },
  {
   "cell_type": "markdown",
   "id": "8a414a1f",
   "metadata": {},
   "source": [
    "### 인덱스 생략하며 증가폭 사용하기 "
   ]
  },
  {
   "cell_type": "code",
   "execution_count": 10,
   "id": "11e89017",
   "metadata": {},
   "outputs": [
    {
     "data": {
      "text/plain": [
       "[0, 20, 40, 60]"
      ]
     },
     "execution_count": 10,
     "metadata": {},
     "output_type": "execute_result"
    }
   ],
   "source": [
    "#리스트의 처음부터 인덱스를 2씩 증가하며 인덱스 6까지 가져오기\n",
    "a = list(range(0,100,10))\n",
    "a[:7:2]"
   ]
  },
  {
   "cell_type": "code",
   "execution_count": 11,
   "id": "ccaaf1c2",
   "metadata": {},
   "outputs": [
    {
     "data": {
      "text/plain": [
       "[70, 90]"
      ]
     },
     "execution_count": 11,
     "metadata": {},
     "output_type": "execute_result"
    }
   ],
   "source": [
    "a[7::2] #인덱스 7부터 시작해서 2씩 증가시켜 마지막요소까지"
   ]
  },
  {
   "cell_type": "code",
   "execution_count": 12,
   "id": "68d07de2",
   "metadata": {},
   "outputs": [
    {
     "data": {
      "text/plain": [
       "[0, 20, 40, 60, 80]"
      ]
     },
     "execution_count": 12,
     "metadata": {},
     "output_type": "execute_result"
    }
   ],
   "source": [
    "a[::2] #처음부터 끝까지 2씩 증가시키며 가져오기"
   ]
  },
  {
   "cell_type": "markdown",
   "id": "bc986e97",
   "metadata": {},
   "source": [
    "### len 응용하기 "
   ]
  },
  {
   "cell_type": "markdown",
   "id": "47511837",
   "metadata": {},
   "source": [
    "- len을 응용하여 리스트 전체 가져오기 "
   ]
  },
  {
   "cell_type": "code",
   "execution_count": null,
   "id": "89b3eb2f",
   "metadata": {},
   "outputs": [
    {
     "data": {
      "text/plain": [
       "[0, 10, 20, 30, 40, 50, 60, 70, 80, 90]"
      ]
     },
     "execution_count": 14,
     "metadata": {},
     "output_type": "execute_result"
    }
   ],
   "source": [
    "a = list(range(0,100,10))\n",
    "\n",
    "a[0:len(a)]  #len(a) = 10, 즉 a[0:10]"
   ]
  },
  {
   "cell_type": "code",
   "execution_count": 16,
   "id": "f2bf4d53",
   "metadata": {},
   "outputs": [
    {
     "data": {
      "text/plain": [
       "[0, 10, 20, 30, 40, 50, 60, 70, 80, 90]"
      ]
     },
     "execution_count": 16,
     "metadata": {},
     "output_type": "execute_result"
    }
   ],
   "source": [
    "a[:len(a)]"
   ]
  },
  {
   "cell_type": "markdown",
   "id": "6dc49d96",
   "metadata": {},
   "source": [
    "### 튜플에 슬라이스 사용하기 "
   ]
  },
  {
   "cell_type": "code",
   "execution_count": 19,
   "id": "91c16ac8",
   "metadata": {},
   "outputs": [
    {
     "data": {
      "text/plain": [
       "(40, 60)"
      ]
     },
     "execution_count": 19,
     "metadata": {},
     "output_type": "execute_result"
    }
   ],
   "source": [
    "b = tuple(range(0,100,10))\n",
    "b[4:7:2]"
   ]
  },
  {
   "cell_type": "markdown",
   "id": "db808c78",
   "metadata": {},
   "source": [
    "### range에 슬라이스 사용하기"
   ]
  },
  {
   "cell_type": "code",
   "execution_count": 20,
   "id": "9c42c6c3",
   "metadata": {},
   "outputs": [],
   "source": [
    "r = range(0,10)"
   ]
  },
  {
   "cell_type": "code",
   "execution_count": 21,
   "id": "0aef0638",
   "metadata": {},
   "outputs": [
    {
     "data": {
      "text/plain": [
       "range(4, 7)"
      ]
     },
     "execution_count": 21,
     "metadata": {},
     "output_type": "execute_result"
    }
   ],
   "source": [
    "r[4:7]"
   ]
  },
  {
   "cell_type": "code",
   "execution_count": 22,
   "id": "ff5d4b40",
   "metadata": {},
   "outputs": [
    {
     "data": {
      "text/plain": [
       "range(0, 10)"
      ]
     },
     "execution_count": 22,
     "metadata": {},
     "output_type": "execute_result"
    }
   ],
   "source": [
    "r[:]"
   ]
  },
  {
   "cell_type": "markdown",
   "id": "0e763f60",
   "metadata": {},
   "source": [
    "- range는 리스트, 튜플과 달리 요소가 표시되지 않고, 생성 범위만 표시된다. \n",
    "- 잘라낸 range객체를 리스트로 만들려면 list에 그대로 넣으면 된다 . "
   ]
  },
  {
   "cell_type": "code",
   "execution_count": 23,
   "id": "5fd303d2",
   "metadata": {},
   "outputs": [
    {
     "data": {
      "text/plain": [
       "[4, 5]"
      ]
     },
     "execution_count": 23,
     "metadata": {},
     "output_type": "execute_result"
    }
   ],
   "source": [
    "list(r[4:6])"
   ]
  },
  {
   "cell_type": "markdown",
   "id": "25295102",
   "metadata": {},
   "source": [
    "- 문자열도 시퀀스 자료형이므로 슬라이스 사용 가능 \n",
    "- 문자열은 문자 하나 하나가 요소이므로 문자 단위로 잘라서 새 문자열을 만들 수 있음 "
   ]
  },
  {
   "cell_type": "code",
   "execution_count": 25,
   "id": "71f09257",
   "metadata": {},
   "outputs": [
    {
     "name": "stdout",
     "output_type": "stream",
     "text": [
      "llo wor\n",
      "hlowrd\n"
     ]
    }
   ],
   "source": [
    "hello = \"hello world\"\n",
    "print(hello[2:9])\n",
    "print(hello[::2])"
   ]
  },
  {
   "cell_type": "markdown",
   "id": "e220f54d",
   "metadata": {},
   "source": [
    "### 슬라이스에 요소 할당하기 "
   ]
  },
  {
   "cell_type": "markdown",
   "id": "b0f836e6",
   "metadata": {},
   "source": [
    "- 시퀀스 객체는 슬라이스로 범위를 지정해서 '여러 요소에 값을 할당'할 수 있다. \n",
    "    - 역시나 할당은 '=' 을 쓴다. \n",
    "    - 시퀀스객체[시작인덱스:끝인덱스] = 시퀀스객체"
   ]
  },
  {
   "cell_type": "code",
   "execution_count": 28,
   "id": "5dd57a10",
   "metadata": {},
   "outputs": [
    {
     "data": {
      "text/plain": [
       "[0, 10, 'a', 'b', 'c', 50, 60, 70, 80, 90]"
      ]
     },
     "execution_count": 28,
     "metadata": {},
     "output_type": "execute_result"
    }
   ],
   "source": [
    "a = list(range(0,100,10))\n",
    "a[2:5] = ['a', 'b', 'c'] #인덱스 2부터 4까지 값 할당 \n",
    "a #원래 있던 리스트가 변경되며, 새 리스트는 생성되지 않는다. "
   ]
  },
  {
   "cell_type": "markdown",
   "id": "ed93653c",
   "metadata": {},
   "source": [
    "- 사실 갯수를 맞추지 않아도 된다. \n",
    "    - 요소 개수를 맞추지 않아도 알아서 할당된다. \n",
    "    - 할당할 요소 개수가 적으면 '그만큼 리스트의 요소 개수도 줄어'든다. "
   ]
  },
  {
   "cell_type": "code",
   "execution_count": 29,
   "id": "2ae355b5",
   "metadata": {},
   "outputs": [
    {
     "data": {
      "text/plain": [
       "[0, 10, 'a', 50, 60, 70, 80, 90]"
      ]
     },
     "execution_count": 29,
     "metadata": {},
     "output_type": "execute_result"
    }
   ],
   "source": [
    "a[2:5] = ['a']\n",
    "a"
   ]
  },
  {
   "cell_type": "code",
   "execution_count": null,
   "id": "60a15679",
   "metadata": {},
   "outputs": [
    {
     "ename": "TypeError",
     "evalue": "'tuple' object does not support item assignment",
     "output_type": "error",
     "traceback": [
      "\u001b[1;31m---------------------------------------------------------------------------\u001b[0m",
      "\u001b[1;31mTypeError\u001b[0m                                 Traceback (most recent call last)",
      "Cell \u001b[1;32mIn[30], line 2\u001b[0m\n\u001b[0;32m      1\u001b[0m b \u001b[38;5;241m=\u001b[39m \u001b[38;5;28mtuple\u001b[39m(\u001b[38;5;28mrange\u001b[39m(\u001b[38;5;241m0\u001b[39m,\u001b[38;5;241m100\u001b[39m,\u001b[38;5;241m10\u001b[39m))\n\u001b[1;32m----> 2\u001b[0m b[\u001b[38;5;241m2\u001b[39m:\u001b[38;5;241m6\u001b[39m] \u001b[38;5;241m=\u001b[39m (\u001b[38;5;124m'\u001b[39m\u001b[38;5;124ma\u001b[39m\u001b[38;5;124m'\u001b[39m)\n",
      "\u001b[1;31mTypeError\u001b[0m: 'tuple' object does not support item assignment"
     ]
    }
   ],
   "source": [
    "b = tuple(range(0,100,10))\n",
    "b[2:6] = ('a') #튜플은 읽기전용. "
   ]
  },
  {
   "cell_type": "markdown",
   "id": "a8f1dfbc",
   "metadata": {},
   "source": [
    "- 반대로 할당할 요소 개수가 많으면 그만큼 리스트 요소 개수도 늘어난다. "
   ]
  },
  {
   "cell_type": "code",
   "execution_count": 31,
   "id": "082697ad",
   "metadata": {},
   "outputs": [
    {
     "data": {
      "text/plain": [
       "[0, 10, 'a', 'b', 'c', 'd', 'e', 'f', 70, 80, 90]"
      ]
     },
     "execution_count": 31,
     "metadata": {},
     "output_type": "execute_result"
    }
   ],
   "source": [
    "a[2:5] = ['a', 'b', 'c', 'd', 'e', 'f']\n",
    "a"
   ]
  },
  {
   "cell_type": "markdown",
   "id": "6757e2fa",
   "metadata": {},
   "source": [
    "- 인덱스 증가폭을 지정하여 인덱스를 건너뛰며 할당하기 "
   ]
  },
  {
   "cell_type": "code",
   "execution_count": 32,
   "id": "2aaa41c8",
   "metadata": {},
   "outputs": [
    {
     "data": {
      "text/plain": [
       "[0, 10, 'a', 30, 'b', 50, 'c', 70, 80, 90]"
      ]
     },
     "execution_count": 32,
     "metadata": {},
     "output_type": "execute_result"
    }
   ],
   "source": [
    "a = list(range(0,100,10))\n",
    "a[2:8:2] = ['a','b','c']\n",
    "a"
   ]
  },
  {
   "cell_type": "markdown",
   "id": "743536b8",
   "metadata": {},
   "source": [
    "- 인덱스 ***증가폭을 지정할 때는 슬라이스 범위의 요소 개수와 할당할 요소 개수가 정확히 일치***해야한다. "
   ]
  },
  {
   "cell_type": "code",
   "execution_count": null,
   "id": "530d263c",
   "metadata": {},
   "outputs": [
    {
     "ename": "ValueError",
     "evalue": "attempt to assign sequence of size 2 to extended slice of size 3",
     "output_type": "error",
     "traceback": [
      "\u001b[1;31m---------------------------------------------------------------------------\u001b[0m",
      "\u001b[1;31mValueError\u001b[0m                                Traceback (most recent call last)",
      "Cell \u001b[1;32mIn[33], line 2\u001b[0m\n\u001b[0;32m      1\u001b[0m a \u001b[38;5;241m=\u001b[39m \u001b[38;5;28mlist\u001b[39m(\u001b[38;5;28mrange\u001b[39m(\u001b[38;5;241m0\u001b[39m,\u001b[38;5;241m100\u001b[39m,\u001b[38;5;241m10\u001b[39m))\n\u001b[1;32m----> 2\u001b[0m a[\u001b[38;5;241m2\u001b[39m:\u001b[38;5;241m8\u001b[39m:\u001b[38;5;241m2\u001b[39m] \u001b[38;5;241m=\u001b[39m [\u001b[38;5;124m'\u001b[39m\u001b[38;5;124ma\u001b[39m\u001b[38;5;124m'\u001b[39m, \u001b[38;5;124m'\u001b[39m\u001b[38;5;124mb\u001b[39m\u001b[38;5;124m'\u001b[39m]\n",
      "\u001b[1;31mValueError\u001b[0m: attempt to assign sequence of size 2 to extended slice of size 3"
     ]
    }
   ],
   "source": [
    "a = list(range(0,100,10))\n",
    "a[2:8:2] = ['a', 'b']\n",
    "\n",
    "#[0,10,20,30,40,50,60,70,80,90] 2번째 인덱스부터 2씩 건너뛰어 7번째까지면 최소 3개는 할당해야함"
   ]
  },
  {
   "cell_type": "markdown",
   "id": "2f35fa03",
   "metadata": {},
   "source": [
    "### 슬라이스의 삭제 - del "
   ]
  },
  {
   "cell_type": "code",
   "execution_count": 35,
   "id": "e850fb91",
   "metadata": {},
   "outputs": [
    {
     "data": {
      "text/plain": [
       "[0, 10, 40, 50, 60, 70, 80, 90]"
      ]
     },
     "execution_count": 35,
     "metadata": {},
     "output_type": "execute_result"
    }
   ],
   "source": [
    "a = list(range(0,100,10))\n",
    "del a[2:4] \n",
    "a #20,30 삭제 "
   ]
  },
  {
   "cell_type": "markdown",
   "id": "1a8d892e",
   "metadata": {},
   "source": [
    "### 연습문제 - 최근 3년간 인구 출력하기"
   ]
  },
  {
   "cell_type": "markdown",
   "id": "fb8be1fa",
   "metadata": {},
   "source": [
    "- 리스트 year에 연도, population에 서울시 인구수가 저장되어 있습니다. 다음 소스 코드를 완성하여 최근 3년간 연도와 인구수가 리스트로 출력되게 만드세요.\n",
    "- year = [2011, 2012, 2013, 2014, 2015, 2016, 2017, 2018]\n",
    "- population = [10249679, 10195318, 10143645, 10103233, 10022181, 9930616, 9857426, 9838892]\n",
    " \n",
    "- print(         )\n",
    "- print(               )\n",
    "\n",
    "- 실행결과\n",
    "    - [2016, 2017, 2018]\n",
    "    - [9930616, 9857426, 9838892]"
   ]
  },
  {
   "cell_type": "code",
   "execution_count": 37,
   "id": "0f19f5aa",
   "metadata": {},
   "outputs": [],
   "source": [
    "year = [2011, 2012, 2013, 2014, 2015, 2016, 2017, 2018]\n",
    "population = [10249679, 10195318, 10143645, 10103233, 10022181, 9930616, 9857426, 9838892]"
   ]
  },
  {
   "cell_type": "code",
   "execution_count": null,
   "id": "01912b3b",
   "metadata": {},
   "outputs": [
    {
     "data": {
      "text/plain": [
       "[2016, 2017, 2018]"
      ]
     },
     "execution_count": 38,
     "metadata": {},
     "output_type": "execute_result"
    }
   ],
   "source": [
    "year[-3:]  #주의 ! #즉, 맨뒤에서 3번째부터 마지막까지 !  "
   ]
  },
  {
   "cell_type": "code",
   "execution_count": null,
   "id": "a1f51a5c",
   "metadata": {},
   "outputs": [
    {
     "data": {
      "text/plain": [
       "2018"
      ]
     },
     "execution_count": 39,
     "metadata": {},
     "output_type": "execute_result"
    }
   ],
   "source": [
    "year[-1] #가장 마지막부터 "
   ]
  },
  {
   "cell_type": "code",
   "execution_count": 40,
   "id": "9b49a566",
   "metadata": {},
   "outputs": [
    {
     "data": {
      "text/plain": [
       "[9930616, 9857426, 9838892]"
      ]
     },
     "execution_count": 40,
     "metadata": {},
     "output_type": "execute_result"
    }
   ],
   "source": [
    "population[-3:]"
   ]
  },
  {
   "cell_type": "markdown",
   "id": "b30f2a7c",
   "metadata": {},
   "source": [
    "### 연습문제 - 인덱스가 홀수인 요소 출력하기"
   ]
  },
  {
   "cell_type": "markdown",
   "id": "85c5ff5b",
   "metadata": {},
   "source": [
    "- 다음 소스 코드를 완성하여 튜플 n에서 인덱스가 홀수인 요소들이 출력되게 만드세요.\n",
    "\n",
    "- n = -32, 75, 97, -10, 9, 32, 4, -15, 0, 76, 14, 2\n",
    " \n",
    "- print(              )\n",
    "\n",
    "- 실행결과 : (75, -10, 32, -15, 76, 2)\n"
   ]
  },
  {
   "cell_type": "code",
   "execution_count": 41,
   "id": "24b312a8",
   "metadata": {},
   "outputs": [],
   "source": [
    "n = -32, 75, 97, -10, 9, 32, 4, -15, 0, 76, 14, 2"
   ]
  },
  {
   "cell_type": "code",
   "execution_count": 42,
   "id": "9a61b882",
   "metadata": {},
   "outputs": [
    {
     "data": {
      "text/plain": [
       "(75, -10, 32, -15, 76, 2)"
      ]
     },
     "execution_count": 42,
     "metadata": {},
     "output_type": "execute_result"
    }
   ],
   "source": [
    "#첫번째부터 두개씩 증가해서 끝까지 \n",
    "n[1::2]"
   ]
  },
  {
   "cell_type": "code",
   "execution_count": 43,
   "id": "6aeb48ef",
   "metadata": {},
   "outputs": [
    {
     "data": {
      "text/plain": [
       "(75, -10, 32, -15, 76, 2)"
      ]
     },
     "execution_count": 43,
     "metadata": {},
     "output_type": "execute_result"
    }
   ],
   "source": [
    "n[1:len(n):2]"
   ]
  },
  {
   "cell_type": "markdown",
   "id": "57e009ee",
   "metadata": {},
   "source": [
    "### 연습문제 - 리스트의 마지막 부분 삭제하기"
   ]
  },
  {
   "cell_type": "markdown",
   "id": "6bd9f2d1",
   "metadata": {},
   "source": [
    "- 표준 입력으로 숫자 또는 문자열 여러 개가 입력되어 리스트 x에 저장됩니다(입력되는 숫자 또는 문자열의 개수는 정해져 있지 않음). 다음 소스 코드를 완성하여 리스트 x의 마지막 요소 5개를 삭제한 뒤 튜플로 출력되게 만드세요.\n",
    "- x = input().split()\n",
    "- 입력 : 1 2 3 4 5 6 7 8 9 10\n",
    "- 결과 : ('1', '2', '3', '4', '5')\n",
    "- 입력 : oven bat pony total leak wreck curl crop space navy loss knee\n",
    "- 결과 : ('oven', 'bat', 'pony', 'total', 'leak', 'wreck', 'curl')"
   ]
  },
  {
   "cell_type": "code",
   "execution_count": null,
   "id": "323ee267",
   "metadata": {},
   "outputs": [],
   "source": [
    "x = input().split()\n",
    "#입력 : 1 2 3 4 5 6 7 8 9 10 \n",
    "x = x[:-5]"
   ]
  },
  {
   "cell_type": "code",
   "execution_count": null,
   "id": "6456eb1d",
   "metadata": {},
   "outputs": [],
   "source": [
    "#풀이1) del로 마지막 요소 5개 삭제하기 \n",
    "del x[-5:] #뒤에서부터 5개를 삭제 \n",
    "tuple(x)  #리스트를 튜플로 변환  "
   ]
  },
  {
   "cell_type": "code",
   "execution_count": null,
   "id": "51d4e09c",
   "metadata": {},
   "outputs": [],
   "source": [
    "#풀이2) len()을 활용한 \n",
    "    #len(x)-5 = 뒤에서 5번째 요소 인덱스하는 방법 ㅇㅇ \n",
    "del x[len(x)-5:] #뒤에서부터 5개 삭제 \n",
    "tuple(x)"
   ]
  },
  {
   "cell_type": "code",
   "execution_count": null,
   "id": "4bef8cdb",
   "metadata": {},
   "outputs": [],
   "source": [
    "#풀이3) 슬라이딩 재할당(새 리스트 만들기)\n",
    "x = x[:-5] #뒤에서 5개를 제외한 나머지 \n",
    "tuple(x)"
   ]
  },
  {
   "cell_type": "markdown",
   "id": "e24e14d3",
   "metadata": {},
   "source": [
    "### 연습문제 - 문자열에서 인덱스가 홀수인 문자와 짝수인 문자 연결하기"
   ]
  },
  {
   "cell_type": "markdown",
   "id": "45d42fbc",
   "metadata": {},
   "source": [
    "- 표준 입력으로 문자열 두 개가 각 줄에 입력됩니다(문자열의 길이는 정해져 있지 않음). 첫 번째 문자열에서 인덱스가 홀수인 문자와 두 번째 문자열에서 인덱스가 짝수인 문자를 연결하여 출력하는 프로그램을 만드세요(input에서 안내 문자열은 출력하지 않아야 합니다). 연결 순서는 첫 번째 문자열, 두 번째 문자열 순입니다. 그리고 0은 짝수로 처리합니다.\n",
    "- 입력\n",
    "    - python\n",
    "    - python\n",
    "- 결과 \n",
    "    - yhnpto"
   ]
  },
  {
   "cell_type": "markdown",
   "id": "49602c59",
   "metadata": {},
   "source": [
    "- 문제 요약 \n",
    "    - 표준 입력으로 문자열 2개가 각 한줄씩 입력\n",
    "    - 첫번째 문자열에서 홀수 인덱스 문자만 추출(1,3,5)\n",
    "    - 두번째 문자열은 짝수인덱스만\n",
    "    - 이 둘을 순서대로 연결"
   ]
  },
  {
   "cell_type": "code",
   "execution_count": null,
   "id": "e508639e",
   "metadata": {},
   "outputs": [],
   "source": [
    "a = input()\n",
    "b = input()\n",
    "\n",
    "result = a[1::2] + b[::2]\n",
    "print(result)"
   ]
  }
 ],
 "metadata": {
  "kernelspec": {
   "display_name": "base",
   "language": "python",
   "name": "python3"
  },
  "language_info": {
   "codemirror_mode": {
    "name": "ipython",
    "version": 3
   },
   "file_extension": ".py",
   "mimetype": "text/x-python",
   "name": "python",
   "nbconvert_exporter": "python",
   "pygments_lexer": "ipython3",
   "version": "3.12.7"
  }
 },
 "nbformat": 4,
 "nbformat_minor": 5
}
