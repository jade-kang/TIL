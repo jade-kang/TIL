{
 "cells": [
  {
   "cell_type": "markdown",
   "id": "fa67d3f1",
   "metadata": {},
   "source": [
    "### 변수"
   ]
  },
  {
   "cell_type": "markdown",
   "id": "8867d72e",
   "metadata": {},
   "source": [
    "- 출력된 결과값을 저장하기 위해 변수를 사용한다 \n",
    "- 등호(=)는 값을 '할당'(assignment)한다는 의미 "
   ]
  },
  {
   "cell_type": "markdown",
   "id": "06298a43",
   "metadata": {},
   "source": [
    "- 변수 이름 규칙\n",
    "    - 영문 문자와 숫자를 사용할 수 있습니다.\n",
    "    - 대소문자를 구분합니다.\n",
    "    - 문자부터 시작해야 하며 숫자부터 시작하면 안 됩니다.\n",
    "    - _(밑줄 문자)로 시작할 수 있습니다.\n",
    "    - 특수 문자(+, -, *, /, $, @, &, % 등)는 사용할 수 없습니다.\n",
    "    - 파이썬의 키워드(if, for, while, and, or 등)는 사용할 수 없습니다."
   ]
  },
  {
   "cell_type": "markdown",
   "id": "ba981baf",
   "metadata": {},
   "source": [
    "- 변수 여러개를 한번에 만들기"
   ]
  },
  {
   "cell_type": "code",
   "execution_count": null,
   "id": "fbfa1a56",
   "metadata": {},
   "outputs": [
    {
     "name": "stdout",
     "output_type": "stream",
     "text": [
      "10\n",
      "20\n",
      "30\n"
     ]
    }
   ],
   "source": [
    "x, y, z = 10, 20, 30\n",
    "print(x)\n",
    "print(y)\n",
    "print(z) "
   ]
  },
  {
   "cell_type": "code",
   "execution_count": null,
   "id": "806c4f87",
   "metadata": {},
   "outputs": [
    {
     "name": "stdout",
     "output_type": "stream",
     "text": [
      "10\n",
      "10\n",
      "10\n"
     ]
    }
   ],
   "source": [
    "#여러 변수에 같은 값을 할당해줄 때\n",
    "x=y=z=10 \n",
    "print(x)\n",
    "print(y)\n",
    "print(z)"
   ]
  },
  {
   "cell_type": "code",
   "execution_count": 3,
   "id": "a3cb36a6",
   "metadata": {},
   "outputs": [
    {
     "name": "stdout",
     "output_type": "stream",
     "text": [
      "20\n",
      "10\n"
     ]
    }
   ],
   "source": [
    "#두 변수의 값을 바꾸려면 ?\n",
    "x, y = 10, 20   #x, y의 값을 각각 교체해주고 싶다\n",
    "\n",
    "x,y = y,x #이렇게 하면 할당되는 값이 서로 바뀐다\n",
    "\n",
    "print(x)\n",
    "print(y)"
   ]
  },
  {
   "cell_type": "markdown",
   "id": "c191c991",
   "metadata": {},
   "source": [
    "- 변수의 삭제 : del 사용"
   ]
  },
  {
   "cell_type": "code",
   "execution_count": 4,
   "id": "4f61ea5b",
   "metadata": {},
   "outputs": [
    {
     "ename": "NameError",
     "evalue": "name 'x' is not defined",
     "output_type": "error",
     "traceback": [
      "\u001b[1;31m---------------------------------------------------------------------------\u001b[0m",
      "\u001b[1;31mNameError\u001b[0m                                 Traceback (most recent call last)",
      "Cell \u001b[1;32mIn[4], line 5\u001b[0m\n\u001b[0;32m      2\u001b[0m x \u001b[38;5;241m=\u001b[39m \u001b[38;5;241m10\u001b[39m \n\u001b[0;32m      3\u001b[0m \u001b[38;5;28;01mdel\u001b[39;00m x\n\u001b[1;32m----> 5\u001b[0m \u001b[38;5;28mprint\u001b[39m(x)\n",
      "\u001b[1;31mNameError\u001b[0m: name 'x' is not defined"
     ]
    }
   ],
   "source": [
    "#변수 삭제 : del 사용 \n",
    "x = 10 \n",
    "del x\n",
    "\n",
    "print(x)"
   ]
  },
  {
   "cell_type": "markdown",
   "id": "5c68d97a",
   "metadata": {},
   "source": [
    "- 빈 변수 만들기 "
   ]
  },
  {
   "cell_type": "code",
   "execution_count": null,
   "id": "137eb04c",
   "metadata": {},
   "outputs": [
    {
     "name": "stdout",
     "output_type": "stream",
     "text": [
      "None\n"
     ]
    }
   ],
   "source": [
    "x = None  #다른 언어에서는 null이라고도 표현한다. \n",
    "print(x)  "
   ]
  },
  {
   "cell_type": "markdown",
   "id": "1d6c8a6c",
   "metadata": {},
   "source": [
    "### 변수로 계산하기 "
   ]
  },
  {
   "cell_type": "code",
   "execution_count": 7,
   "id": "a5fb8993",
   "metadata": {},
   "outputs": [
    {
     "name": "stdout",
     "output_type": "stream",
     "text": [
      "30\n"
     ]
    }
   ],
   "source": [
    "a = 10\n",
    "b = 20\n",
    "c = a+b\n",
    "print(c)"
   ]
  },
  {
   "cell_type": "markdown",
   "id": "49ee141e",
   "metadata": {},
   "source": [
    "### 할당 연산자"
   ]
  },
  {
   "cell_type": "markdown",
   "id": "f8defab8",
   "metadata": {},
   "source": [
    "- 산술 연산 후 할당 연산자 사용하기 \n",
    "    - 변수 a의 값을 20 증가시키려면 어떻게 해야할까? \n",
    "        - a+20 처럼 20을 더하면 30이 나오지만, a의값을 출력하면 원래의 값인 10이 나옴\n",
    "        - 변수에 값의 변화를 유지, 저장시키려면 할당 연산자를 사용해야한다. \n",
    "- += 처럼 산술 연산자 앞에 **=(할당 연산자)** 를 붙이면 연산 결과를 변수에 저장 \n",
    "    - 덧셈(+=), 뺄셈(-=), 곱셈(*=), 나눗셈(/=, //=), 나머지(%=) 도 같은 방식\n",
    "    - 즉, 똑같이 연산 후 할당(=) 한다는 뜻 \n",
    "\n",
    "    - a += 20 의 의미 \n",
    "        - a = a+20 "
   ]
  },
  {
   "cell_type": "code",
   "execution_count": null,
   "id": "2f3e0708",
   "metadata": {},
   "outputs": [
    {
     "name": "stdout",
     "output_type": "stream",
     "text": [
      "30\n",
      "10\n"
     ]
    }
   ],
   "source": [
    "a = 10\n",
    "print(a+20) \n",
    "print(a) "
   ]
  },
  {
   "cell_type": "code",
   "execution_count": 10,
   "id": "6b2ebf2b",
   "metadata": {},
   "outputs": [
    {
     "name": "stdout",
     "output_type": "stream",
     "text": [
      "30\n"
     ]
    }
   ],
   "source": [
    "#할당 연산자 사용 \n",
    "a = 10\n",
    "a += 20 #a와 20을 더한 후 결과를 다시 a에 저장 \n",
    "print(a)"
   ]
  },
  {
   "cell_type": "markdown",
   "id": "568a968a",
   "metadata": {},
   "source": [
    "### 입력 값을 변수에 저장하기 "
   ]
  },
  {
   "cell_type": "markdown",
   "id": "6c050ce7",
   "metadata": {},
   "source": [
    "- ***매번 다른 값을 변수에 할당시키려면 ?*** \n",
    "    - input() 함수 : 입력한 문자열이 그대로 출력 \n",
    "        - 즉, 사용자가 입력한 값을 가져오는 함수 "
   ]
  },
  {
   "cell_type": "code",
   "execution_count": null,
   "id": "9437cced",
   "metadata": {},
   "outputs": [],
   "source": [
    "x = input() #사용자가 입력한 값이 x에 할당됨. "
   ]
  },
  {
   "cell_type": "markdown",
   "id": "f2a5d11b",
   "metadata": {},
   "source": [
    "- 입력창에 커서만 나오지 않고, 안내 문구가 나오게 하려면?\n",
    "    - 변수 = input('문자열')"
   ]
  },
  {
   "cell_type": "code",
   "execution_count": null,
   "id": "923010f7",
   "metadata": {},
   "outputs": [],
   "source": [
    "x = input('문자열을 입력하세요')"
   ]
  },
  {
   "cell_type": "code",
   "execution_count": null,
   "id": "f88c231c",
   "metadata": {},
   "outputs": [],
   "source": []
  }
 ],
 "metadata": {
  "kernelspec": {
   "display_name": "base",
   "language": "python",
   "name": "python3"
  },
  "language_info": {
   "codemirror_mode": {
    "name": "ipython",
    "version": 3
   },
   "file_extension": ".py",
   "mimetype": "text/x-python",
   "name": "python",
   "nbconvert_exporter": "python",
   "pygments_lexer": "ipython3",
   "version": "3.12.7"
  }
 },
 "nbformat": 4,
 "nbformat_minor": 5
}
