{
 "cells": [
  {
   "cell_type": "markdown",
   "id": "7a456673",
   "metadata": {},
   "source": [
    "# while 반복문으로 리스트 요소 출력하기 "
   ]
  },
  {
   "cell_type": "code",
   "execution_count": null,
   "id": "39e9c85c",
   "metadata": {},
   "outputs": [
    {
     "name": "stdout",
     "output_type": "stream",
     "text": [
      "38\n",
      "21\n",
      "53\n",
      "62\n",
      "19\n"
     ]
    }
   ],
   "source": [
    "#while로 리스트 내의 요소 출력하기 \n",
    "a = [38, 21, 53, 62, 19]\n",
    "i = 0\n",
    "while i < len(a): # 리스트의 길이만큼 반복 (a는 4번까지 있으니까 이퀄 x)\n",
    "    print(a[i])\n",
    "    i += 1 # 인덱스 증가"
   ]
  },
  {
   "cell_type": "markdown",
   "id": "b87b38ad",
   "metadata": {},
   "source": [
    "# 리스트에서 가장 작은 수, 큰수, 합계 구하기"
   ]
  },
  {
   "cell_type": "markdown",
   "id": "92f2b68b",
   "metadata": {},
   "source": [
    "### 반복문을 사용해서 구하기\n"
   ]
  },
  {
   "cell_type": "markdown",
   "id": "311f9314",
   "metadata": {},
   "source": [
    "- 반복문으로 가장 작은 수 출력해보기 \n",
    "    - 방법 : 하나씩 꺼내서 각자 비교를 해본다 "
   ]
  },
  {
   "cell_type": "code",
   "execution_count": null,
   "id": "a2dd42da",
   "metadata": {},
   "outputs": [
    {
     "name": "stdout",
     "output_type": "stream",
     "text": [
      "19\n"
     ]
    }
   ],
   "source": [
    "a = [38, 21, 53, 62, 19]\n",
    "\n",
    "smallest = a[0] #일단 기준값으로 첫번째 값을 설정 \n",
    "for i in a: #리스트의 요소(i)를 하나씩 꺼내서 \n",
    "    if i < smallest: #비교를 했을때, 꺼낸 값이 더 작으면 \n",
    "        smallest = i #꺼낸 요소가 새롭게 smallest가 된다 \n",
    "        \n",
    "print(smallest) #가장 작은 수 출력하기"
   ]
  },
  {
   "cell_type": "code",
   "execution_count": 3,
   "id": "ae9cbed2",
   "metadata": {},
   "outputs": [
    {
     "name": "stdout",
     "output_type": "stream",
     "text": [
      "62\n"
     ]
    }
   ],
   "source": [
    "#큰수 구하기 \n",
    "a = [38, 21, 53, 62, 19]\n",
    "\n",
    "largest = a[0] #일단 기준값으로 첫번째 값을 설정 \n",
    "for i in a: #리스트의 요소(i)를 하나씩 꺼내서 \n",
    "    if i > largest: #비교를 했을때, 꺼낸 값이 더 크면 \n",
    "        largest = i #꺼낸 요소가 새롭게 largest가 된다 \n",
    "        \n",
    "print(largest) #가장 큰 수 출력하기"
   ]
  },
  {
   "cell_type": "markdown",
   "id": "ad00b1ca",
   "metadata": {},
   "source": [
    "### 리스트를 정렬해서 구하기"
   ]
  },
  {
   "cell_type": "code",
   "execution_count": 4,
   "id": "f43d89a3",
   "metadata": {},
   "outputs": [
    {
     "name": "stdout",
     "output_type": "stream",
     "text": [
      "[19, 21, 38, 53, 62]\n",
      "19\n",
      "62\n"
     ]
    }
   ],
   "source": [
    "a = [38, 21, 53, 62, 19]\n",
    "\n",
    "a.sort() # 리스트를 정렬해서 구하기\n",
    "print(a) # 정렬된 리스트 출력\n",
    "print(a[0]) # 가장 작은 수 출력\n",
    "print(a[-1]) # 가장 큰 수 출력"
   ]
  },
  {
   "cell_type": "markdown",
   "id": "c0bbd2cb",
   "metadata": {},
   "source": [
    "### min, max 사용하기"
   ]
  },
  {
   "cell_type": "code",
   "execution_count": 7,
   "id": "fe675d81",
   "metadata": {},
   "outputs": [
    {
     "name": "stdout",
     "output_type": "stream",
     "text": [
      "19\n",
      "62\n"
     ]
    }
   ],
   "source": [
    "a = [38, 21, 53, 62, 19]\n",
    "print(min(a))\n",
    "print(max(a))"
   ]
  },
  {
   "cell_type": "markdown",
   "id": "c2c3224c",
   "metadata": {},
   "source": [
    "# 요소의 합계 구하기"
   ]
  },
  {
   "cell_type": "markdown",
   "id": "6a50819c",
   "metadata": {},
   "source": [
    "### 반복문을 사용해서 요소의 합계 구하기 "
   ]
  },
  {
   "cell_type": "markdown",
   "id": "5de03a19",
   "metadata": {},
   "source": [
    "- 변수 x에 0을 할당하고, for 반복문으로 리스트의 요소를 모두 반복하면서 요소를 x에 계속 더해주면 된다. "
   ]
  },
  {
   "cell_type": "code",
   "execution_count": 8,
   "id": "8d06063c",
   "metadata": {},
   "outputs": [
    {
     "name": "stdout",
     "output_type": "stream",
     "text": [
      "80\n"
     ]
    }
   ],
   "source": [
    "a = [10, 20, 30, 20]\n",
    "x = 0\n",
    "for i in a:\n",
    "    x += i # x에 a의 요소를 하나씩 더해준다\n",
    "print(x) # 요소의 합계 출력"
   ]
  },
  {
   "cell_type": "markdown",
   "id": "cf68580d",
   "metadata": {},
   "source": [
    "### sum 함수를 사용해서 합계 구하기"
   ]
  },
  {
   "cell_type": "code",
   "execution_count": 9,
   "id": "cb3ec2e7",
   "metadata": {},
   "outputs": [
    {
     "data": {
      "text/plain": [
       "50"
      ]
     },
     "execution_count": 9,
     "metadata": {},
     "output_type": "execute_result"
    }
   ],
   "source": [
    "a = [10, 10, 10, 10, 10]\n",
    "sum(a)"
   ]
  },
  {
   "cell_type": "markdown",
   "id": "a6b18fd3",
   "metadata": {},
   "source": []
  }
 ],
 "metadata": {
  "kernelspec": {
   "display_name": "Python 3",
   "language": "python",
   "name": "python3"
  },
  "language_info": {
   "codemirror_mode": {
    "name": "ipython",
    "version": 3
   },
   "file_extension": ".py",
   "mimetype": "text/x-python",
   "name": "python",
   "nbconvert_exporter": "python",
   "pygments_lexer": "ipython3",
   "version": "3.9.6"
  }
 },
 "nbformat": 4,
 "nbformat_minor": 5
}
