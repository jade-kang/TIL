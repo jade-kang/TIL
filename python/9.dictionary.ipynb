{
 "cells": [
  {
   "cell_type": "markdown",
   "id": "7453c57f",
   "metadata": {},
   "source": [
    "### 딕셔너리"
   ]
  },
  {
   "cell_type": "markdown",
   "id": "cf527cf3",
   "metadata": {},
   "source": [
    "- 값마다 이름을 붙여서 저장하는 방식 \n",
    "    - 사전에서 단어를 찾듯, 값을 가져올 수 있음 \n",
    "- 중괄호 사용 \n",
    "    - 딕셔너리 = {키 : 값, 키2 : 값2 ...} \n",
    "    - 키-값 쌍 (key-value pair) "
   ]
  },
  {
   "cell_type": "markdown",
   "id": "74b3347c",
   "metadata": {},
   "source": [
    "--- "
   ]
  },
  {
   "cell_type": "markdown",
   "id": "04c935f6",
   "metadata": {},
   "source": [
    "- key 이름이 중복되면 어떻게 되는가 ?"
   ]
  },
  {
   "cell_type": "code",
   "execution_count": 3,
   "id": "6ecd4923",
   "metadata": {},
   "outputs": [
    {
     "data": {
      "text/plain": [
       "{'health': 800, 'mana': 334, 'melee': 550, 'armor': 18.72}"
      ]
     },
     "execution_count": 3,
     "metadata": {},
     "output_type": "execute_result"
    }
   ],
   "source": [
    "lux = {'health': 490, 'health': 800, 'mana': 334, 'melee': 550, 'armor': 18.72}\n",
    "#health가 중복된다. \n",
    "lux['health'] #가장 뒤에 있는 값만 사용한다. \n",
    "lux  #중복되는 키는 저장되지 않는다. "
   ]
  },
  {
   "cell_type": "markdown",
   "id": "c1f3d7c5",
   "metadata": {},
   "source": [
    "### 딕셔너리 키의 자료형"
   ]
  },
  {
   "cell_type": "markdown",
   "id": "76013f79",
   "metadata": {},
   "source": [
    "- 키(key)\n",
    "    - 문자열, 정수, 실수, 불 사용 가능\n",
    "    - 자료형 섞어서 사용 가능 \n",
    "    - 단, **리스트, 딕셔너리** 사용 불가\n",
    "- 값(value)\n",
    "    - 리스트, 딕셔너리 등 '모든' 자료형 사용 가능 "
   ]
  },
  {
   "cell_type": "code",
   "execution_count": 5,
   "id": "ce0fb81c",
   "metadata": {},
   "outputs": [
    {
     "data": {
      "text/plain": [
       "{100: 'hundred', False: 0, 3.5: [3.5, 3.5]}"
      ]
     },
     "execution_count": 5,
     "metadata": {},
     "output_type": "execute_result"
    }
   ],
   "source": [
    "x = {100: 'hundred', False: 0, 3.5: [3.5, 3.5]}\n",
    "x"
   ]
  },
  {
   "cell_type": "code",
   "execution_count": 6,
   "id": "563cb2a9",
   "metadata": {},
   "outputs": [
    {
     "ename": "TypeError",
     "evalue": "unhashable type: 'list'",
     "output_type": "error",
     "traceback": [
      "\u001b[1;31m---------------------------------------------------------------------------\u001b[0m",
      "\u001b[1;31mTypeError\u001b[0m                                 Traceback (most recent call last)",
      "Cell \u001b[1;32mIn[6], line 2\u001b[0m\n\u001b[0;32m      1\u001b[0m \u001b[38;5;66;03m#단, 키에는 리스트와 딕셔너리를 사용할 수 없다.\u001b[39;00m\n\u001b[1;32m----> 2\u001b[0m x \u001b[38;5;241m=\u001b[39m {[\u001b[38;5;241m10\u001b[39m, \u001b[38;5;241m20\u001b[39m]: \u001b[38;5;241m100\u001b[39m}\n",
      "\u001b[1;31mTypeError\u001b[0m: unhashable type: 'list'"
     ]
    }
   ],
   "source": [
    "#단, 키에는 리스트와 딕셔너리를 사용할 수 없다.\n",
    "x = {[10, 20]: 100}"
   ]
  },
  {
   "cell_type": "markdown",
   "id": "5fa3b5c1",
   "metadata": {},
   "source": [
    "### 빈 딕셔너리 만들기 "
   ]
  },
  {
   "cell_type": "markdown",
   "id": "11c2f311",
   "metadata": {},
   "source": [
    "- {} 만 지정하거나 dict 사용 "
   ]
  },
  {
   "cell_type": "code",
   "execution_count": 8,
   "id": "0f5d07bb",
   "metadata": {},
   "outputs": [
    {
     "data": {
      "text/plain": [
       "{}"
      ]
     },
     "execution_count": 8,
     "metadata": {},
     "output_type": "execute_result"
    }
   ],
   "source": [
    "x = {}\n",
    "x"
   ]
  },
  {
   "cell_type": "code",
   "execution_count": 9,
   "id": "8178cefa",
   "metadata": {},
   "outputs": [
    {
     "data": {
      "text/plain": [
       "{}"
      ]
     },
     "execution_count": 9,
     "metadata": {},
     "output_type": "execute_result"
    }
   ],
   "source": [
    "y = dict()\n",
    "y"
   ]
  },
  {
   "cell_type": "markdown",
   "id": "8505a102",
   "metadata": {},
   "source": [
    "### dict 로 딕셔너리 만들기"
   ]
  },
  {
   "cell_type": "markdown",
   "id": "b8bf7299",
   "metadata": {},
   "source": [
    "- 방법1) dict 에서 키=값 형식으로 만들기 "
   ]
  },
  {
   "cell_type": "code",
   "execution_count": 10,
   "id": "59430f84",
   "metadata": {},
   "outputs": [
    {
     "data": {
      "text/plain": [
       "{'health': 490, 'mana': 334, 'melee': 550, 'armor': 18.72}"
      ]
     },
     "execution_count": 10,
     "metadata": {},
     "output_type": "execute_result"
    }
   ],
   "source": [
    "lux1 = dict(health=490, mana=334, melee=550, armor=18.72)\n",
    "lux1 "
   ]
  },
  {
   "cell_type": "markdown",
   "id": "781d7c32",
   "metadata": {},
   "source": [
    "- 방법2) dict에서 zip 함수 사용하기 "
   ]
  },
  {
   "cell_type": "code",
   "execution_count": 11,
   "id": "d6e33cba",
   "metadata": {},
   "outputs": [
    {
     "data": {
      "text/plain": [
       "{'health': 490, 'mana': 334, 'melee': 550, 'armor': 18.72}"
      ]
     },
     "execution_count": 11,
     "metadata": {},
     "output_type": "execute_result"
    }
   ],
   "source": [
    "lux2 = dict(zip(['health', 'mana', 'melee', 'armor'], [490, 334, 550, 18.72]))\n",
    "lux2"
   ]
  },
  {
   "cell_type": "markdown",
   "id": "316dfe4d",
   "metadata": {},
   "source": [
    "- 방법3) 리스트 안에 (키,값) 형식의 '튜플' 나열"
   ]
  },
  {
   "cell_type": "code",
   "execution_count": 12,
   "id": "77585079",
   "metadata": {},
   "outputs": [
    {
     "data": {
      "text/plain": [
       "{'health': 490, 'mana': 334, 'melee': 550, 'armor': 18.72}"
      ]
     },
     "execution_count": 12,
     "metadata": {},
     "output_type": "execute_result"
    }
   ],
   "source": [
    "lux3 = dict([('health', 490), ('mana', 334), ('melee', 550), ('armor', 18.72)])\n",
    "lux3                                                  "
   ]
  },
  {
   "cell_type": "markdown",
   "id": "f28056b5",
   "metadata": {},
   "source": [
    "- 방법4) dict 안에 중괄호로 딕셔너리 생성 \n"
   ]
  },
  {
   "cell_type": "code",
   "execution_count": 13,
   "id": "7a025b35",
   "metadata": {},
   "outputs": [
    {
     "data": {
      "text/plain": [
       "{'health': 490, 'mana': 334, 'melee': 550, 'armor': 18.72}"
      ]
     },
     "execution_count": 13,
     "metadata": {},
     "output_type": "execute_result"
    }
   ],
   "source": [
    "lux4 = dict({'health': 490, 'mana': 334, 'melee': 550, 'armor': 18.72})     # dict 안에서\n",
    "lux4"
   ]
  },
  {
   "cell_type": "markdown",
   "id": "2c158e13",
   "metadata": {},
   "source": [
    "### 딕셔너리 키에 접근하기 + 값 할당하기"
   ]
  },
  {
   "cell_type": "markdown",
   "id": "b6f00805",
   "metadata": {},
   "source": [
    "- 키에 접근할 때는 대괄호를 사용하여 키를 지정해주면 된다"
   ]
  },
  {
   "cell_type": "code",
   "execution_count": 14,
   "id": "a39b4c29",
   "metadata": {},
   "outputs": [
    {
     "data": {
      "text/plain": [
       "490"
      ]
     },
     "execution_count": 14,
     "metadata": {},
     "output_type": "execute_result"
    }
   ],
   "source": [
    "lux = {'health': 490, 'mana': 334, 'melee': 550, 'armor': 18.72}\n",
    "lux['health']"
   ]
  },
  {
   "cell_type": "code",
   "execution_count": 15,
   "id": "ee5eb59b",
   "metadata": {},
   "outputs": [
    {
     "data": {
      "text/plain": [
       "18.72"
      ]
     },
     "execution_count": 15,
     "metadata": {},
     "output_type": "execute_result"
    }
   ],
   "source": [
    "lux['armor']"
   ]
  },
  {
   "cell_type": "markdown",
   "id": "ec200332",
   "metadata": {},
   "source": [
    "- 키에 값 할당하기\n",
    "    - 할당은 '=' "
   ]
  },
  {
   "cell_type": "code",
   "execution_count": 16,
   "id": "3ab6e1c8",
   "metadata": {},
   "outputs": [
    {
     "data": {
      "text/plain": [
       "{'health': 2036, 'mana': 334, 'melee': 550, 'armor': 18.72}"
      ]
     },
     "execution_count": 16,
     "metadata": {},
     "output_type": "execute_result"
    }
   ],
   "source": [
    "lux = {'health': 490, 'mana': 334, 'melee': 550, 'armor': 18.72}\n",
    "lux['health'] = 2036\n",
    "lux"
   ]
  },
  {
   "cell_type": "markdown",
   "id": "3f456c99",
   "metadata": {},
   "source": [
    "- 딕셔너리는 없는 키에 값을 할당해주면 해당 키가 '추가'되고 값이 할당된다"
   ]
  },
  {
   "cell_type": "code",
   "execution_count": 17,
   "id": "baa2a605",
   "metadata": {},
   "outputs": [
    {
     "data": {
      "text/plain": [
       "{'health': 2036, 'mana': 334, 'melee': 550, 'armor': 18.72, 'mana_regen': 3.28}"
      ]
     },
     "execution_count": 17,
     "metadata": {},
     "output_type": "execute_result"
    }
   ],
   "source": [
    "lux['mana_regen'] = 3.28 \n",
    "lux"
   ]
  },
  {
   "cell_type": "markdown",
   "id": "df03b4a3",
   "metadata": {},
   "source": [
    "- 딕셔너리에 키가 있는지 확인 ? in / not in "
   ]
  },
  {
   "cell_type": "code",
   "execution_count": null,
   "id": "28c29188",
   "metadata": {},
   "outputs": [
    {
     "data": {
      "text/plain": [
       "True"
      ]
     },
     "execution_count": 18,
     "metadata": {},
     "output_type": "execute_result"
    }
   ],
   "source": [
    "'attack_speed' not in lux #없으면 true "
   ]
  },
  {
   "cell_type": "code",
   "execution_count": 19,
   "id": "6ea74c5b",
   "metadata": {},
   "outputs": [
    {
     "data": {
      "text/plain": [
       "False"
      ]
     },
     "execution_count": 19,
     "metadata": {},
     "output_type": "execute_result"
    }
   ],
   "source": [
    "'health' not in lux"
   ]
  },
  {
   "cell_type": "markdown",
   "id": "5edcd03b",
   "metadata": {},
   "source": [
    "### 딕셔너리 키 개수 구하기 - len"
   ]
  },
  {
   "cell_type": "markdown",
   "id": "e758242a",
   "metadata": {},
   "source": [
    "- 주의, len을 쓰면 key 의 갯수가 나온다"
   ]
  },
  {
   "cell_type": "code",
   "execution_count": 20,
   "id": "7147a567",
   "metadata": {},
   "outputs": [
    {
     "data": {
      "text/plain": [
       "4"
      ]
     },
     "execution_count": 20,
     "metadata": {},
     "output_type": "execute_result"
    }
   ],
   "source": [
    "#실무에서는 함수 등을 사용해 딕셔너리를 생성하기에 키의 개수가 눈에 안보임. \n",
    "#len 함수 사용 \n",
    "lux = {'health': 490, 'mana': 334, 'melee': 550, 'armor': 18.72}\n",
    "len(lux)"
   ]
  },
  {
   "cell_type": "code",
   "execution_count": 21,
   "id": "0aeaf2c0",
   "metadata": {},
   "outputs": [
    {
     "data": {
      "text/plain": [
       "4"
      ]
     },
     "execution_count": 21,
     "metadata": {},
     "output_type": "execute_result"
    }
   ],
   "source": [
    "len({'health': 490, 'mana': 334, 'melee': 550, 'armor': 18.72})"
   ]
  },
  {
   "cell_type": "markdown",
   "id": "30a5762e",
   "metadata": {},
   "source": [
    "### 연습문제 - 딕셔너리에 게임 캐릭터 능력치 저장하기 "
   ]
  },
  {
   "cell_type": "markdown",
   "id": "3ceaa707",
   "metadata": {},
   "source": [
    "- 다음 소스 코드를 완성하여 게임 캐릭터의 체력(health)과 이동 속도(movement speed)가 출력되게 만드세요.\n",
    "- camille = {\n",
    "    'health': 575.6,\n",
    "    'health_regen': 1.7,\n",
    "    'mana': 338.8,\n",
    "    'mana_regen': 1.63,\n",
    "    'melee': 125,\n",
    "    'attack_damage': 60,\n",
    "    'attack_speed': 0.625,\n",
    "    'armor': 26,\n",
    "    'magic_resistance': 32.1,\n",
    "    'movement_speed': 340\n",
    "}"
   ]
  },
  {
   "cell_type": "code",
   "execution_count": 22,
   "id": "e8488fd4",
   "metadata": {},
   "outputs": [],
   "source": [
    "camille = {\n",
    "    'health': 575.6,\n",
    "    'health_regen': 1.7,\n",
    "    'mana': 338.8,\n",
    "    'mana_regen': 1.63,\n",
    "    'melee': 125,\n",
    "    'attack_damage': 60,\n",
    "    'attack_speed': 0.625,\n",
    "    'armor': 26,\n",
    "    'magic_resistance': 32.1,\n",
    "    'movement_speed': 340\n",
    "}"
   ]
  },
  {
   "cell_type": "code",
   "execution_count": 23,
   "id": "0f94a65f",
   "metadata": {},
   "outputs": [
    {
     "name": "stdout",
     "output_type": "stream",
     "text": [
      "575.6\n",
      "340\n"
     ]
    }
   ],
   "source": [
    "print(camille['health'])\n",
    "print(camille['movement_speed'])\n"
   ]
  },
  {
   "cell_type": "markdown",
   "id": "a8aaa038",
   "metadata": {},
   "source": [
    "### 연습문제: 딕셔너리에 게임 캐릭터 능력치 저장하기\n"
   ]
  },
  {
   "cell_type": "markdown",
   "id": "2a183408",
   "metadata": {},
   "source": [
    "- 표준 입력으로 문자열 여러 개와 숫자(실수) 여러 개가 두 줄로 입력됩니다. 입력된 첫 번째 줄은 키, 두 번째 줄은 값으로 하여 딕셔너리를 생성한 뒤 딕셔너리를 출력하는 프로그램을 만드세요. input().split()의 결과를 변수 한 개에 저장하면 리스트로 저장됩니다.\n",
    "- 입력\n",
    "    - health health_regen mana mana_regen\n",
    "    - 575.6 1.7 338.8 1.63\n",
    "- 결과\n",
    "    - {'health': 575.6, 'health_regen': 1.7, 'mana': 338.8, 'mana_regen': 1.63}\n"
   ]
  },
  {
   "cell_type": "code",
   "execution_count": null,
   "id": "9bf1765a",
   "metadata": {},
   "outputs": [],
   "source": [
    "# 내 오답 : \n",
    "x = input().split() #이때 keys는 list 객체이다. \n",
    "y = input().split()  #y값은 숫자들이 입력되는데, input은 문자열로 받아버림 \n",
    "dict = dict(zip(x, y))  #zip(x,y)일때, 키는 문자열이고 값도 문자열이 되어버림 \n",
    "print(dict)"
   ]
  },
  {
   "attachments": {
    "image.png": {
     "image/png": "[encoded data removed]"
    }
   },
   "cell_type": "markdown",
   "id": "91566d6c",
   "metadata": {},
   "source": [
    "![image.png](attachment:image.png)"
   ]
  },
  {
   "attachments": {
    "image.png": {
     "image/png": "[encoded data removed]"
    }
   },
   "cell_type": "markdown",
   "id": "32faee77",
   "metadata": {},
   "source": [
    "![image.png](attachment:image.png)"
   ]
  },
  {
   "cell_type": "code",
   "execution_count": null,
   "id": "77684403",
   "metadata": {},
   "outputs": [],
   "source": [
    "#수정 \n",
    "keys = input().split()\n",
    "values = list(map(float, input().split())) #map 객체를 list로 변환해줘야 한다. \n",
    "dict = dict(zip(keys, values))"
   ]
  },
  {
   "cell_type": "code",
   "execution_count": null,
   "id": "813f40f9",
   "metadata": {},
   "outputs": [],
   "source": [
    "#방식2) \n",
    "keys = input().split()\n",
    "values = list(map(float, input().split()))\n",
    "d = {k:v for k,v in zip(keys, values)}"
   ]
  }
 ],
 "metadata": {
  "kernelspec": {
   "display_name": "base",
   "language": "python",
   "name": "python3"
  },
  "language_info": {
   "codemirror_mode": {
    "name": "ipython",
    "version": 3
   },
   "file_extension": ".py",
   "mimetype": "text/x-python",
   "name": "python",
   "nbconvert_exporter": "python",
   "pygments_lexer": "ipython3",
   "version": "3.12.7"
  }
 },
 "nbformat": 4,
 "nbformat_minor": 5
}
